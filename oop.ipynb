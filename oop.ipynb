{
 "cells": [
  {
   "cell_type": "code",
   "execution_count": 10,
   "id": "05018e93",
   "metadata": {},
   "outputs": [],
   "source": [
    "class bottle:\n",
    "  color=\"red\"\n",
    "  height=\"1.5L\"\n",
    "  size=\"medium\"\n",
    "  shape=\"cylindrical\" \n",
    "  meterial=\"plastic\"\n",
    "  price=\"100\"\n",
    "\n",
    "    "
   ]
  },
  {
   "cell_type": "code",
   "execution_count": 27,
   "id": "05084cce",
   "metadata": {},
   "outputs": [
    {
     "ename": "NameError",
     "evalue": "name 'Polygon' is not defined",
     "output_type": "error",
     "traceback": [
      "\u001b[31m---------------------------------------------------------------------------\u001b[39m",
      "\u001b[31mNameError\u001b[39m                                 Traceback (most recent call last)",
      "\u001b[36mCell\u001b[39m\u001b[36m \u001b[39m\u001b[32mIn[27]\u001b[39m\u001b[32m, line 1\u001b[39m\n\u001b[32m----> \u001b[39m\u001b[32m1\u001b[39m \u001b[38;5;28;43;01mclass\u001b[39;49;00m\u001b[38;5;250;43m \u001b[39;49m\u001b[34;43;01mPolygon\u001b[39;49;00m\u001b[43m:\u001b[49m\n\u001b[32m      2\u001b[39m \u001b[43m  \u001b[49m\u001b[43mtriangle\u001b[49m\u001b[43m=\u001b[49m\u001b[43mPolygon\u001b[49m\u001b[43m(\u001b[49m\u001b[43m)\u001b[49m\n\u001b[32m      3\u001b[39m \u001b[43m  \u001b[49m\u001b[43mtriangle\u001b[49m\u001b[43m.\u001b[49m\u001b[43msides\u001b[49m\u001b[43m=\u001b[49m\u001b[33;43m'\u001b[39;49m\u001b[33;43m3\u001b[39;49m\u001b[33;43m'\u001b[39;49m\n",
      "\u001b[36mCell\u001b[39m\u001b[36m \u001b[39m\u001b[32mIn[27]\u001b[39m\u001b[32m, line 2\u001b[39m, in \u001b[36mPolygon\u001b[39m\u001b[34m()\u001b[39m\n\u001b[32m      1\u001b[39m \u001b[38;5;28;01mclass\u001b[39;00m\u001b[38;5;250m \u001b[39m\u001b[34;01mPolygon\u001b[39;00m:\n\u001b[32m----> \u001b[39m\u001b[32m2\u001b[39m   triangle=\u001b[43mPolygon\u001b[49m()\n\u001b[32m      3\u001b[39m   triangle.sides=\u001b[33m'\u001b[39m\u001b[33m3\u001b[39m\u001b[33m'\u001b[39m\n",
      "\u001b[31mNameError\u001b[39m: name 'Polygon' is not defined"
     ]
    }
   ],
   "source": [
    "class Polygon:\n",
    "  triangle=Polygon()\n",
    "  triangle.sides='3'\n",
    "  "
   ]
  },
  {
   "cell_type": "code",
   "execution_count": 20,
   "id": "ae7c6149",
   "metadata": {},
   "outputs": [
    {
     "name": "stdout",
     "output_type": "stream",
     "text": [
      "<class '__main__.polygon'>\n"
     ]
    }
   ],
   "source": [
    "print(polygon)"
   ]
  },
  {
   "cell_type": "code",
   "execution_count": 25,
   "id": "756f68c7",
   "metadata": {},
   "outputs": [
    {
     "name": "stdout",
     "output_type": "stream",
     "text": [
      "triangle\n"
     ]
    }
   ],
   "source": [
    "print(\"triangle\")"
   ]
  },
  {
   "cell_type": "code",
   "execution_count": 34,
   "id": "b28cbd77",
   "metadata": {},
   "outputs": [
    {
     "name": "stdout",
     "output_type": "stream",
     "text": [
      "<__main__.Polygon object at 0x000001DE8619F0E0>\n",
      "<__main__.Polygon object at 0x000001DE861C9810>\n",
      "0\n",
      "3\n"
     ]
    }
   ],
   "source": [
    "class Polygon:\n",
    "    side = 0\n",
    "\n",
    "# create an object of Polygon\n",
    "polygon = Polygon()\n",
    "\n",
    "# create another object for triangle\n",
    "triangle = Polygon()\n",
    "triangle.side = 3\n",
    "\n",
    "print(polygon)\n",
    "print(triangle)\n",
    "print(polygon.side)\n",
    "print(triangle.side)\n"
   ]
  },
  {
   "cell_type": "code",
   "execution_count": null,
   "id": "14e85889",
   "metadata": {},
   "outputs": [],
   "source": []
  },
  {
   "cell_type": "code",
   "execution_count": null,
   "id": "db24c438",
   "metadata": {},
   "outputs": [],
   "source": []
  }
 ],
 "metadata": {
  "kernelspec": {
   "display_name": "Python 3",
   "language": "python",
   "name": "python3"
  },
  "language_info": {
   "codemirror_mode": {
    "name": "ipython",
    "version": 3
   },
   "file_extension": ".py",
   "mimetype": "text/x-python",
   "name": "python",
   "nbconvert_exporter": "python",
   "pygments_lexer": "ipython3",
   "version": "3.13.6"
  }
 },
 "nbformat": 4,
 "nbformat_minor": 5
}
