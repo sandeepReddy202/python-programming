{
 "cells": [
  {
   "cell_type": "code",
   "execution_count": 1,
   "id": "7a38524f",
   "metadata": {},
   "outputs": [
    {
     "name": "stdout",
     "output_type": "stream",
     "text": [
      "value=>95\n"
     ]
    }
   ],
   "source": [
    "data = int (input(\"enter data value\"))\n",
    "print(f\"value=>{data}\")\n"
   ]
  },
  {
   "cell_type": "code",
   "execution_count": 5,
   "id": "211d3718",
   "metadata": {},
   "outputs": [
    {
     "name": "stdout",
     "output_type": "stream",
     "text": [
      "Best day of the WEEEK\n"
     ]
    }
   ],
   "source": [
    "day = input(\"Enter the day\")\n",
    "match day:\n",
    "    case \"Monday\":print(\"Today is monday! BORING...\")\n",
    "    case \"Sunday\":print(\"Sunday is a FUN DAY\")\n",
    "    case \"Friday\":print(\"Waiting for the weekwnd\")\n",
    "    case \"Saturday\":print(\"Best day of the WEEEK\")\n",
    "    case \"default\":print(\"its not an option\")\n",
    "    "
   ]
  },
  {
   "cell_type": "code",
   "execution_count": 9,
   "id": "2c7a61c7",
   "metadata": {},
   "outputs": [
    {
     "name": "stdout",
     "output_type": "stream",
     "text": [
      "Tell me some movies\n",
      "Avengerse Infinity war,Batman The Darknight Rises,Fat and furious,saaho\n"
     ]
    }
   ],
   "source": [
    "print(\"Tell me some movies\")\n",
    "genere = input(\" what genere would you like \")\n",
    "match genere:\n",
    "    case \"Action\":\n",
    "        print(\"Avengerse Infinity war,Batman The Darknight Rises,Fat and furious,saaho\")\n",
    "    case \"Horror\":\n",
    "        print(\"Rajasaab,Kanchana,Arundhathi\")\n",
    "    case \"fantasy\":\n",
    "        print(\"Lord of the Rings,Harry potter series\")\n",
    "    case \"sci-fi| comedy\":\n",
    "        print(\"Adam Project,Nimona,Interstellar\")\n",
    "    case default :\n",
    "        print(\"You should notwatch any movies\")\n",
    "\n",
    "      \n"
   ]
  },
  {
   "cell_type": "code",
   "execution_count": 13,
   "id": "f5665225",
   "metadata": {},
   "outputs": [
    {
     "name": "stdout",
     "output_type": "stream",
     "text": [
      "You escaped and find a lion\n",
      "you are miserably and died\n"
     ]
    }
   ],
   "source": [
    "ans=input(\"you see a bear =,woould like to fight it y/n?\")\n",
    "if ans == \"n\":\n",
    "    print(\"You escaped and find a lion\")\n",
    "    ans2 = input (\"You want to fight it y/n\")\n",
    "    if ans2 == \"n\":\n",
    "        print(\"You escaped again,find a car\")\n",
    "        ans3 =input(\"you want to drive it y/n\")\n",
    "        if ans3 == \"y\":\n",
    "            print(\"You escaped the area\")\n",
    "        else:\n",
    "            print(\"teh bear & lion catch and kill u\")\n",
    "    else:\n",
    "        print(\"you are miserably and died\")\n",
    "else:\n",
    "    print(\"The bear destroyed you\")"
   ]
  },
  {
   "cell_type": "code",
   "execution_count": 15,
   "id": "5767ad08",
   "metadata": {},
   "outputs": [
    {
     "name": "stdout",
     "output_type": "stream",
     "text": [
      "the toatal value is 28\n"
     ]
    }
   ],
   "source": [
    "a,b,c = 10,5,23\n",
    "if a > b:\n",
    "    if a > c:\n",
    "        total = a+b+c \n",
    "        if total > 100:\n",
    "            print(f\"The total is big value = {total}\")\n",
    "        else :\n",
    "            print (f\"The total is small value={total}\")\n",
    "    else:\n",
    "        total = c+b \n",
    "        print(f\"the toatal value is {total}\")\n",
    "else:\n",
    "    print(\"the total value was nto calculated\")"
   ]
  }
 ],
 "metadata": {
  "kernelspec": {
   "display_name": "Python 3",
   "language": "python",
   "name": "python3"
  },
  "language_info": {
   "codemirror_mode": {
    "name": "ipython",
    "version": 3
   },
   "file_extension": ".py",
   "mimetype": "text/x-python",
   "name": "python",
   "nbconvert_exporter": "python",
   "pygments_lexer": "ipython3",
   "version": "3.13.6"
  }
 },
 "nbformat": 4,
 "nbformat_minor": 5
}
