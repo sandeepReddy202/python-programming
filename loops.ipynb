{
 "cells": [
  {
   "cell_type": "code",
   "execution_count": 6,
   "id": "15087d29",
   "metadata": {},
   "outputs": [
    {
     "name": "stdout",
     "output_type": "stream",
     "text": [
      "1\n",
      "3\n",
      "5\n",
      "7\n",
      "9\n"
     ]
    }
   ],
   "source": [
    "range(1 , 10 , 2)\n",
    "for i in range(1 , 10, 2):\n",
    "   print(i)"
   ]
  },
  {
   "cell_type": "code",
   "execution_count": 7,
   "id": "43ab20ba",
   "metadata": {},
   "outputs": [
    {
     "name": "stdout",
     "output_type": "stream",
     "text": [
      "0\n",
      "5\n",
      "10\n"
     ]
    }
   ],
   "source": [
    "range(0,15,5)\n",
    "for i in range(0,15,5):\n",
    "   print(i) "
   ]
  },
  {
   "cell_type": "code",
   "execution_count": 2,
   "id": "5b027325",
   "metadata": {},
   "outputs": [
    {
     "name": "stdout",
     "output_type": "stream",
     "text": [
      "10\n",
      "8\n",
      "6\n",
      "4\n",
      "2\n"
     ]
    }
   ],
   "source": [
    "for i in range(10,0,-2):\n",
    "   print(i)"
   ]
  },
  {
   "cell_type": "code",
   "execution_count": 8,
   "id": "4db2d44c",
   "metadata": {},
   "outputs": [
    {
     "name": "stdout",
     "output_type": "stream",
     "text": [
      "100\n",
      "102\n",
      "104\n",
      "106\n",
      "108\n",
      "110\n",
      "112\n",
      "114\n",
      "116\n",
      "118\n",
      "120\n",
      "122\n",
      "124\n",
      "126\n",
      "128\n",
      "130\n",
      "132\n",
      "134\n",
      "136\n",
      "138\n",
      "140\n",
      "142\n",
      "144\n",
      "146\n",
      "148\n",
      "150\n",
      "152\n",
      "154\n",
      "156\n",
      "158\n",
      "160\n",
      "162\n",
      "164\n",
      "166\n",
      "168\n",
      "170\n",
      "172\n",
      "174\n",
      "176\n",
      "178\n",
      "180\n",
      "182\n",
      "184\n",
      "186\n",
      "188\n",
      "190\n",
      "192\n",
      "194\n",
      "196\n",
      "198\n",
      "200\n"
     ]
    }
   ],
   "source": [
    "for num in range(100,201,2):\n",
    "    print(num)"
   ]
  },
  {
   "cell_type": "code",
   "execution_count": 3,
   "id": "5d3ac2d7",
   "metadata": {},
   "outputs": [
    {
     "name": "stdout",
     "output_type": "stream",
     "text": [
      "100,102,104,106,108,110,112,114,116,118,120,122,124,126,128,130,132,134,136,138,140,142,144,146,148,150,152,154,156,158,160,162,164,166,168,170,172,174,176,178,180,182,184,186,188,190,192,194,196,198,200,"
     ]
    }
   ],
   "source": [
    "for num in range(100,201,2):\n",
    "    print(num,end=\",\")"
   ]
  },
  {
   "cell_type": "code",
   "execution_count": 4,
   "id": "48b933dd",
   "metadata": {},
   "outputs": [
    {
     "name": "stdout",
     "output_type": "stream",
     "text": [
      "['red', 'blue', 'green']\n"
     ]
    }
   ],
   "source": [
    "colours=['red','blue','green']\n",
    "print(colours)"
   ]
  },
  {
   "cell_type": "code",
   "execution_count": 5,
   "id": "b17e4eaf",
   "metadata": {},
   "outputs": [
    {
     "name": "stdout",
     "output_type": "stream",
     "text": [
      "red\n",
      "blue\n",
      "green\n"
     ]
    }
   ],
   "source": [
    "#formatted output\n",
    "for colour in colours:\n",
    "    print(colour)"
   ]
  },
  {
   "cell_type": "code",
   "execution_count": 7,
   "id": "9005c4d7",
   "metadata": {},
   "outputs": [
    {
     "name": "stdout",
     "output_type": "stream",
     "text": [
      "arya\n",
      "I\n",
      "red\n",
      "saaho\n",
      "bahubali\n",
      "mrperfect\n",
      "darling\n",
      "OG\n",
      "kalki\n",
      "dhee\n"
     ]
    }
   ],
   "source": [
    "movies=['arya','I','red','saaho','bahubali','mrperfect','darling','OG','kalki','dhee']\n",
    "for movie in movies:\n",
    "    print(movie)"
   ]
  },
  {
   "cell_type": "code",
   "execution_count": 11,
   "id": "c19eac51",
   "metadata": {},
   "outputs": [
    {
     "name": "stdout",
     "output_type": "stream",
     "text": [
      "1,3,5,7,9,11,13,15,17,19,21,23,25,27,29,31,33,35,37,39,41,43,45,47,49,51,53,55,57,59,61,63,65,67,69,71,73,75,77,79,81,83,85,87,89,91,93,95,97,99,"
     ]
    }
   ],
   "source": [
    "for i in range(1,101,2):\n",
    "   print(i, end=\",\") "
   ]
  },
  {
   "cell_type": "code",
   "execution_count": 2,
   "id": "12ff1f9b",
   "metadata": {},
   "outputs": [
    {
     "name": "stdout",
     "output_type": "stream",
     "text": [
      "2\n",
      "4\n",
      "6\n",
      "8\n",
      "10\n"
     ]
    }
   ],
   "source": [
    "for i in range (1,11):\n",
    "    if i%2==0:\n",
    "        print(i)"
   ]
  },
  {
   "cell_type": "code",
   "execution_count": 8,
   "id": "6bfefe9f",
   "metadata": {},
   "outputs": [
    {
     "name": "stdout",
     "output_type": "stream",
     "text": [
      "1\n",
      "3\n",
      "5\n",
      "7\n",
      "9\n",
      "11\n"
     ]
    }
   ],
   "source": [
    "for i in range (0,12):\n",
    "    if i%2!=0:\n",
    "            print(i)"
   ]
  },
  {
   "cell_type": "code",
   "execution_count": 14,
   "id": "84dd5daa",
   "metadata": {},
   "outputs": [
    {
     "name": "stdout",
     "output_type": "stream",
     "text": [
      "odd number\n",
      "odd number\n",
      "odd number\n",
      "odd number\n",
      "144\n",
      "odd number\n"
     ]
    }
   ],
   "source": [
    "nums=[1,5,11,3,12,15]\n",
    "for i in nums:\n",
    "    if i%2==0:\n",
    "        s=i**2\n",
    "        print(s)\n",
    "    else :\n",
    "        print(\"odd number\")"
   ]
  },
  {
   "cell_type": "code",
   "execution_count": null,
   "id": "26518a85",
   "metadata": {},
   "outputs": [
    {
     "name": "stdout",
     "output_type": "stream",
     "text": [
      "even number\n",
      "even number\n",
      "even number\n",
      "even number\n",
      "1728\n",
      "even number\n"
     ]
    }
   ],
   "source": [
    "\n",
    "nums=[1,5,11,3,12,15]\n",
    "for i in nums:\n",
    "    if i%2==0:\n",
    "        s=i**3\n",
    "        print(s)\n",
    "    else :\n",
    "        print(\"even number\")"
   ]
  },
  {
   "cell_type": "code",
   "execution_count": 17,
   "id": "6b33d28f",
   "metadata": {},
   "outputs": [
    {
     "name": "stdout",
     "output_type": "stream",
     "text": [
      "the area for 3 is 28.26\n",
      "the area for 5 is 78.5\n",
      "the area for 6 is 113.04\n",
      "the area for 11 is 379.94\n",
      "the area for 10 is 314.0\n"
     ]
    }
   ],
   "source": [
    "radius = [3,5,6,11,10]\n",
    "for r in radius:\n",
    "        area=3.14*r**2\n",
    "        print(f\"the area for {r} is {area}\")"
   ]
  },
  {
   "cell_type": "code",
   "execution_count": 1,
   "id": "38a1032d",
   "metadata": {},
   "outputs": [
    {
     "name": "stdout",
     "output_type": "stream",
     "text": [
      "chess\n",
      "candy crush\n",
      "cricket\n"
     ]
    }
   ],
   "source": [
    "videogames=['free fire','PUBG','Temple Run','vice city','LUDO','chess','8 ball pool','candy crush','cricket','snake game']\n",
    "for name in videogames:\n",
    "    if name.startswith('c'):\n",
    "        print(name)"
   ]
  },
  {
   "cell_type": "code",
   "execution_count": 27,
   "id": "cb304fc3",
   "metadata": {},
   "outputs": [
    {
     "name": "stdout",
     "output_type": "stream",
     "text": [
      "book->The final empire\n",
      "book->The well of ascension\n",
      "book->The alloy of law\n",
      "book->Hero of ages\n",
      "book->The way of kings\n"
     ]
    }
   ],
   "source": [
    "books=[\"The final empire\",\"war breaken\",\"elantnis\",\"The well of ascension\",\"The alloy of law\",\"Hero of ages\",\"The way of kings\"]\n",
    "for book in books:\n",
    "    if \"The\" in book or \"of\" in book:\n",
    "         print(f\"book->{book}\")"
   ]
  },
  {
   "cell_type": "code",
   "execution_count": 12,
   "id": "d284deb7",
   "metadata": {},
   "outputs": [
    {
     "name": "stdout",
     "output_type": "stream",
     "text": [
      "165\n"
     ]
    }
   ],
   "source": [
    "total=0\n",
    "for num in range(10,21):\n",
    "    total=total+num\n",
    "print(total)"
   ]
  },
  {
   "cell_type": "code",
   "execution_count": 14,
   "id": "73b3a0a1",
   "metadata": {},
   "outputs": [
    {
     "name": "stdout",
     "output_type": "stream",
     "text": [
      "6704425728000\n"
     ]
    }
   ],
   "source": [
    "total=1\n",
    "for num in range(10,21):\n",
    "    total=total*num\n",
    "print(total)    "
   ]
  },
  {
   "cell_type": "code",
   "execution_count": 15,
   "id": "7573e969",
   "metadata": {},
   "outputs": [
    {
     "name": "stdout",
     "output_type": "stream",
     "text": [
      "53\n"
     ]
    }
   ],
   "source": [
    "nums=[5,11,2,53,10,33]\n",
    "m=0\n",
    "for num in nums:\n",
    "    if num>m:\n",
    "        m=num\n",
    "print(m)        "
   ]
  },
  {
   "cell_type": "code",
   "execution_count": 21,
   "id": "02ac08fe",
   "metadata": {},
   "outputs": [
    {
     "name": "stdout",
     "output_type": "stream",
     "text": [
      "total count=8\n"
     ]
    }
   ],
   "source": [
    "nums=[25,26,27,28,29,30,31,31,33,34,35,36,37,38,39,40,41,42,43,44,45,46,47,48,49,50]\n",
    "count=0\n",
    "for i in nums:\n",
    "    if i%3==0:\n",
    "        count=count+1\n",
    "print(f\"total count={count}\")        "
   ]
  },
  {
   "cell_type": "code",
   "execution_count": 25,
   "id": "cb3d8e32",
   "metadata": {},
   "outputs": [
    {
     "name": "stdout",
     "output_type": "stream",
     "text": [
      "24\n"
     ]
    }
   ],
   "source": [
    "count=0\n",
    "for i in nums:\n",
    "    if i%2==0:\n",
    "        count=count+2\n",
    "print(count)        "
   ]
  },
  {
   "cell_type": "code",
   "execution_count": 10,
   "id": "d5b3d5b7",
   "metadata": {},
   "outputs": [
    {
     "name": "stdout",
     "output_type": "stream",
     "text": [
      "count 3\n"
     ]
    }
   ],
   "source": [
    "movies=[\"Saaho\",\"oG\",\"Bahubali\",\"Salaar\",\"Rajasaab\",\"Mrperfect\",\"RRR\",\"Kalki\",\"Pokiri\",\"Rebel\",\"Mirchi\",\"F1\",\"Master\",\"Darling\",\"Spirit\",\"Animal\",\"Gabbarsingh\",\"Arjunreddy\",\"hariharaveeramallu\"]\n",
    "movies_with_s = 0\n",
    "for movie in movies:\n",
    "    if movie.startswith(\"S\") or movie.startswith(\"s\"):\n",
    "        # long way -> movies_with_s = movies_with_s + 1\n",
    "        movies_with_s +=1\n",
    "print(\"count\",movies_with_s)        "
   ]
  },
  {
   "cell_type": "code",
   "execution_count": 3,
   "id": "ba5ef6bb",
   "metadata": {},
   "outputs": [
    {
     "name": "stdout",
     "output_type": "stream",
     "text": [
      "10 * 1\n",
      "9 * 10\n",
      "8 * 90\n",
      "7 * 720\n",
      "6 * 5040\n",
      "5 * 30240\n",
      "4 * 151200\n",
      "3 * 604800\n",
      "2 * 1814400\n",
      "1 * 3628800\n",
      "3628800\n"
     ]
    }
   ],
   "source": [
    "num = 10\n",
    "fact = 1\n",
    "# you can use a backward or forward loop\n",
    "for i in range(num,0,-1):\n",
    "    print(f'{i} * {fact}')\n",
    "    fact = fact * i\n",
    "print(fact)    "
   ]
  },
  {
   "cell_type": "code",
   "execution_count": 12,
   "id": "419c6dde",
   "metadata": {},
   "outputs": [
    {
     "name": "stdout",
     "output_type": "stream",
     "text": [
      "i = 1,j = 1\n",
      "i = 1,j = 2\n",
      "i = 1,j = 3\n",
      "i = 1,j = 4\n",
      "i = 1,j = 5\n",
      "i = 2,j = 1\n",
      "i = 2,j = 2\n",
      "i = 2,j = 3\n",
      "i = 2,j = 4\n",
      "i = 2,j = 5\n",
      "i = 3,j = 1\n",
      "i = 3,j = 2\n",
      "i = 3,j = 3\n",
      "i = 3,j = 4\n",
      "i = 3,j = 5\n",
      "i = 4,j = 1\n",
      "i = 4,j = 2\n",
      "i = 4,j = 3\n",
      "i = 4,j = 4\n",
      "i = 4,j = 5\n",
      "i = 5,j = 1\n",
      "i = 5,j = 2\n",
      "i = 5,j = 3\n",
      "i = 5,j = 4\n",
      "i = 5,j = 5\n",
      "i = 6,j = 1\n",
      "i = 6,j = 2\n",
      "i = 6,j = 3\n",
      "i = 6,j = 4\n",
      "i = 6,j = 5\n",
      "i = 7,j = 1\n",
      "i = 7,j = 2\n",
      "i = 7,j = 3\n",
      "i = 7,j = 4\n",
      "i = 7,j = 5\n",
      "i = 8,j = 1\n",
      "i = 8,j = 2\n",
      "i = 8,j = 3\n",
      "i = 8,j = 4\n",
      "i = 8,j = 5\n",
      "i = 9,j = 1\n",
      "i = 9,j = 2\n",
      "i = 9,j = 3\n",
      "i = 9,j = 4\n",
      "i = 9,j = 5\n",
      "i = 10,j = 1\n",
      "i = 10,j = 2\n",
      "i = 10,j = 3\n",
      "i = 10,j = 4\n",
      "i = 10,j = 5\n"
     ]
    }
   ],
   "source": [
    "# Loops total 10*5 => 50 times1\n",
    "for i in range(1,11):        # loops 10 times\n",
    "    for j in range(1,6):     # loops 5 times\n",
    "        print(f\"i = {i},j = {j}\") "
   ]
  },
  {
   "cell_type": "code",
   "execution_count": 21,
   "id": "d63ac0c5",
   "metadata": {},
   "outputs": [
    {
     "name": "stdout",
     "output_type": "stream",
     "text": [
      "1 2 3 4 5 \n",
      "1 2 3 4 5 \n",
      "1 2 3 4 5 \n",
      "1 2 3 4 5 \n",
      "1 2 3 4 5 \n"
     ]
    }
   ],
   "source": [
    "n = 6\n",
    "for i in range(1,n):\n",
    "    for j in range(1,n):\n",
    "     print(j, end=' ')  # dont change line till inner loop\n",
    "    print()            # change line for the outer loop"
   ]
  },
  {
   "cell_type": "code",
   "execution_count": 25,
   "id": "4b08e827",
   "metadata": {},
   "outputs": [
    {
     "name": "stdout",
     "output_type": "stream",
     "text": [
      "1 2 3 4 5 6 7 \n",
      "1 2 3 4 5 6 7 \n",
      "1 2 3 4 5 6 7 \n",
      "1 2 3 4 5 6 7 \n",
      "1 2 3 4 5 6 7 \n",
      "1 2 3 4 5 6 7 \n",
      "1 2 3 4 5 6 7 \n"
     ]
    }
   ],
   "source": [
    "n = 8\n",
    "for i in range(1,n):\n",
    "    for j in range(1,n):\n",
    "     print(j, end=' ')  # dont change line till inner loop\n",
    "    print()            # change line for the outer loop"
   ]
  },
  {
   "cell_type": "code",
   "execution_count": 27,
   "id": "8c246477",
   "metadata": {},
   "outputs": [
    {
     "name": "stdout",
     "output_type": "stream",
     "text": [
      "1 2 4 5 7 8 10 11 13 14 16 17 19 20 22 23 "
     ]
    }
   ],
   "source": [
    "# skip every value divisible by 3\n",
    "for i in range(1,25):\n",
    "    if i%3==0:\n",
    "        continue\n",
    "    print(i, end=' ')\n",
    "\n"
   ]
  },
  {
   "cell_type": "code",
   "execution_count": 28,
   "id": "29976bde",
   "metadata": {},
   "outputs": [
    {
     "name": "stdout",
     "output_type": "stream",
     "text": [
      "1 2 3 3 1 2 5 6 7 2 2 1 "
     ]
    }
   ],
   "source": [
    "data = [1,2,0,3,3,0,1,2,0,5,6,7,2,0,2,1]\n",
    "for i in data:\n",
    "    if i== 0:\n",
    "        continue\n",
    "    print(i, end=' ')"
   ]
  },
  {
   "cell_type": "code",
   "execution_count": 30,
   "id": "c9bc5466",
   "metadata": {},
   "outputs": [
    {
     "name": "stdout",
     "output_type": "stream",
     "text": [
      "1 2 3 4 5 6 7 "
     ]
    }
   ],
   "source": [
    "for i in range(1,11):\n",
    "    if i== 8:\n",
    "        break\n",
    "    print(i, end=\" \")"
   ]
  },
  {
   "cell_type": "code",
   "execution_count": 2,
   "id": "7987ec3d",
   "metadata": {},
   "outputs": [
    {
     "name": "stdout",
     "output_type": "stream",
     "text": [
      "enter 0 to stop the loop\n",
      "total = 89053\n"
     ]
    }
   ],
   "source": [
    "# Add all values entered by user till he/she types 0\n",
    "total = 0\n",
    "print(\"enter 0 to stop the loop\")\n",
    "for i in range(100):\n",
    "    value = int(input(\"enter a value\"))\n",
    "    if value == 0:\n",
    "        break\n",
    "    total += value     # add the value to total\n",
    "print(f\"total = {total}\") "
   ]
  },
  {
   "cell_type": "code",
   "execution_count": 3,
   "id": "49515136",
   "metadata": {},
   "outputs": [
    {
     "name": "stdout",
     "output_type": "stream",
     "text": [
      "2\n",
      "5\n",
      "8\n",
      "11\n",
      "15\n",
      "loop completed\n"
     ]
    }
   ],
   "source": [
    "nums=[2,5,8,11,15]\n",
    "for n in nums:\n",
    "    print(n)\n",
    "print(\"loop completed\")"
   ]
  },
  {
   "cell_type": "code",
   "execution_count": 4,
   "id": "3924bff0",
   "metadata": {},
   "outputs": [
    {
     "name": "stdout",
     "output_type": "stream",
     "text": [
      "2\n",
      "5\n",
      "8\n",
      "loop completed\n"
     ]
    }
   ],
   "source": [
    "nums=[2,5,8,11,15]\n",
    "for n in nums:\n",
    "    if n>10:\n",
    "        break\n",
    "    print(n)\n",
    "print(\"loop completed\")"
   ]
  },
  {
   "cell_type": "code",
   "execution_count": 12,
   "id": "24b95ddb",
   "metadata": {},
   "outputs": [
    {
     "name": "stdout",
     "output_type": "stream",
     "text": [
      "loop broken\n",
      "loop broken\n",
      "loop broken\n",
      "loop broken\n",
      "loop broken\n",
      "loop broken\n",
      "loop broken\n",
      "loop competed\n"
     ]
    }
   ],
   "source": [
    "value=int(input(\"Enter breakpoint\"))\n",
    "nums=[1,2,3,4,5,6,11,15,20,25]\n",
    "for n in nums:\n",
    "    if value > n:\n",
    "        print(\"loop broken\")\n",
    "else:\n",
    "    print(\"loop competed\")"
   ]
  },
  {
   "cell_type": "code",
   "execution_count": 26,
   "id": "db9e1e95",
   "metadata": {},
   "outputs": [
    {
     "name": "stdout",
     "output_type": "stream",
     "text": [
      "8 not a prime number\n"
     ]
    }
   ],
   "source": [
    "num=int(input(\"enter a number\"))\n",
    "for n in range(2,num):\n",
    "    if num % n==0:\n",
    "        print(f\"{num} not a prime number\")\n",
    "        break"
   ]
  },
  {
   "cell_type": "code",
   "execution_count": 29,
   "id": "cdd2ea88",
   "metadata": {},
   "outputs": [
    {
     "name": "stdout",
     "output_type": "stream",
     "text": [
      "7 is prime number\n"
     ]
    }
   ],
   "source": [
    "num=int(input(\"enter a number\"))\n",
    "for n in range(2,num):\n",
    "    if num % n==0:\n",
    "        print(f\"{num} not a prime number\")\n",
    "        break\n",
    "else:\n",
    "    print(f\"{num} is prime number\")    "
   ]
  },
  {
   "cell_type": "code",
   "execution_count": 32,
   "id": "f768c040",
   "metadata": {},
   "outputs": [
    {
     "name": "stdout",
     "output_type": "stream",
     "text": [
      "50 45 40 35 30 25 20 15 10 5 "
     ]
    }
   ],
   "source": [
    "X=50\n",
    "while X>0:\n",
    "    print(X,end=\" \")\n",
    "    X-=5\n"
   ]
  },
  {
   "cell_type": "code",
   "execution_count": null,
   "id": "7989fdcd",
   "metadata": {},
   "outputs": [],
   "source": []
  }
 ],
 "metadata": {
  "kernelspec": {
   "display_name": "Python 3",
   "language": "python",
   "name": "python3"
  },
  "language_info": {
   "codemirror_mode": {
    "name": "ipython",
    "version": 3
   },
   "file_extension": ".py",
   "mimetype": "text/x-python",
   "name": "python",
   "nbconvert_exporter": "python",
   "pygments_lexer": "ipython3",
   "version": "3.13.6"
  }
 },
 "nbformat": 4,
 "nbformat_minor": 5
}
