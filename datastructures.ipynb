{
 "cells": [
  {
   "cell_type": "code",
   "execution_count": 1,
   "id": "efd13784",
   "metadata": {},
   "outputs": [],
   "source": [
    "x=[]\n",
    "x=list()\n",
    "y=[1,2,3]\n",
    "z=[]\n"
   ]
  },
  {
   "cell_type": "code",
   "execution_count": 2,
   "id": "0ce7c157",
   "metadata": {},
   "outputs": [],
   "source": [
    "z=[]\n",
    "z.append(\"apple\")\n",
    "x.append(\"cherry\")\n",
    "z.append(\"avocado\")\n"
   ]
  },
  {
   "cell_type": "code",
   "execution_count": 8,
   "id": "8012f5fe",
   "metadata": {},
   "outputs": [
    {
     "name": "stdout",
     "output_type": "stream",
     "text": [
      "[1, 1, 1, 1, 1, 1, 1, 1, 1, 1]\n",
      "[1, 2, 1, 2, 1, 2, 1, 2, 1, 2]\n",
      "[1, 1, 1, 1, 1, 1, 1, 1, 1, 1, 1, 1, 1, 1, 1, 1, 1, 1, 1, 1]\n"
     ]
    }
   ],
   "source": [
    "a=[1]*10\n",
    "print(a)\n",
    "b=[1,2]*5\n",
    "c=a*2\n",
    "print(b)\n",
    "print(c)"
   ]
  },
  {
   "cell_type": "code",
   "execution_count": 10,
   "id": "9a394ae6",
   "metadata": {},
   "outputs": [
    {
     "name": "stdout",
     "output_type": "stream",
     "text": [
      "[1, 1, 1, 1, 1, 1, 1, 1, 1, 1]\n",
      "1\n",
      "1\n",
      "1\n",
      "1\n",
      "1\n",
      "1\n",
      "1\n",
      "1\n",
      "1\n",
      "1\n",
      "1\n",
      "1 1\n"
     ]
    }
   ],
   "source": [
    "print(a)\n",
    "#duplayin single item at a time using loop\n",
    "for item in a:\n",
    "    print(item)\n",
    "#single element using index \n",
    "print(a[0])\n",
    "print(a[3],a[5])   "
   ]
  },
  {
   "cell_type": "code",
   "execution_count": 1,
   "id": "2a1f9c0a",
   "metadata": {},
   "outputs": [],
   "source": [
    "students=[\"sandeep\",\"srikanth\",\"bhargav\",\"yaswanth\",\"ram\",\"sreenadth\",\"naveen\",\"chandra mouli\",\"ajay\",\"viany\"\n",
    "          ,\"ruhi\",\"varsha\",\"sumitra\",\"lahari\",\"geetha\",\"megana\",\"jyoshna\",\"anjali\",\"samantha\",\"navya\"]"
   ]
  },
  {
   "cell_type": "code",
   "execution_count": 3,
   "id": "39a12304",
   "metadata": {},
   "outputs": [
    {
     "name": "stdout",
     "output_type": "stream",
     "text": [
      "['The way of king']\n",
      "['The way of king', 'The final empiree', 'streelheart', 'Legion']\n"
     ]
    }
   ],
   "source": [
    "books=[]\n",
    "#adding one item at a time\n",
    "books.append(\"The way of king\")\n",
    "print(books)\n",
    "books.append(\"The final empiree\")\n",
    "books.append(\"streelheart\")\n",
    "books.append(\"Legion\")\n",
    "print(books)"
   ]
  },
  {
   "cell_type": "code",
   "execution_count": 8,
   "id": "95c1beff",
   "metadata": {},
   "outputs": [
    {
     "name": "stdout",
     "output_type": "stream",
     "text": [
      "['red', 'green', 'blue', 'yellow', 'black']\n",
      "['red', 'green', 'blue', 'yellow', 'black', 'purple', 'pink', 'yellow']\n"
     ]
    }
   ],
   "source": [
    "colors=['red','green','blue']\n",
    "colors.extend(['yellow','black'])\n",
    "print(colors)\n",
    "colors2=[\"purple\",\"pink\",\"yellow\"]\n",
    "colors.extend(colors2)\n",
    "print(colors)"
   ]
  },
  {
   "cell_type": "code",
   "execution_count": 11,
   "id": "20a908f5",
   "metadata": {},
   "outputs": [
    {
     "name": "stdout",
     "output_type": "stream",
     "text": [
      "[1, 2, 3, 4, 5, 6, 7, 8, 9, 10]\n"
     ]
    }
   ],
   "source": [
    "a=[]\n",
    "for i in range(1,11):\n",
    "    a.append(i)\n",
    "print(a) "
   ]
  },
  {
   "cell_type": "code",
   "execution_count": 26,
   "id": "510e36c3",
   "metadata": {},
   "outputs": [
    {
     "name": "stdout",
     "output_type": "stream",
     "text": [
      "['saaho', 'mirchi', 'oG', 'mr perfect', 'salaar']\n"
     ]
    }
   ],
   "source": [
    "movies=[]\n",
    "for i in range(5):\n",
    "    movie=input(\"enter your five movies\")\n",
    "    movies.append(movie)\n",
    "print(movies)    \n"
   ]
  },
  {
   "cell_type": "code",
   "execution_count": 24,
   "id": "801fb9a9",
   "metadata": {},
   "outputs": [
    {
     "name": "stdout",
     "output_type": "stream",
     "text": [
      "[1, 2, 5, 10]\n"
     ]
    }
   ],
   "source": [
    "x=[1,5,10]\n",
    "x.insert(1,2)\n",
    "print(x)"
   ]
  },
  {
   "cell_type": "code",
   "execution_count": 27,
   "id": "a10e43ea",
   "metadata": {},
   "outputs": [
    {
     "name": "stdout",
     "output_type": "stream",
     "text": [
      "[1, 5, 10, 9]\n"
     ]
    }
   ],
   "source": [
    "x=[1,5,10]\n",
    "x.insert(4,9)\n",
    "print(x)"
   ]
  },
  {
   "cell_type": "markdown",
   "id": "60e6cbfc",
   "metadata": {},
   "source": [
    "# List methods\n",
    "* Adding elements\n",
    "    1. append() -> add one element to the end of the list\n",
    "    2. insert() -> add one element to a specific position\n",
    "    3. extend() -> append multiple items in a list\n",
    "\n",
    "* Removing elements\n",
    "    1 remove() -> remove the first occurrence of a value\n",
    "    2 pop()-> remove and return and element from an index\n",
    "    3 clear()-> remove all elements form the list\n"
   ]
  },
  {
   "cell_type": "code",
   "execution_count": 4,
   "id": "e32142c0",
   "metadata": {},
   "outputs": [],
   "source": [
    "books = ['hero of ages','well of acsension','warbreaker','Nightblood','The Final emire',\n",
    "         'The way of kinds','Oathebringer','New Moon','king of Thrones','Harry Potter and goblet of fire',\n",
    "         'wind and Truth']"
   ]
  },
  {
   "cell_type": "code",
   "execution_count": 5,
   "id": "f3ad6d79",
   "metadata": {},
   "outputs": [
    {
     "name": "stdout",
     "output_type": "stream",
     "text": [
      "size of book list 11\n"
     ]
    }
   ],
   "source": [
    "print(\"size of book list\",len(books))"
   ]
  },
  {
   "cell_type": "code",
   "execution_count": 6,
   "id": "1b4ce376",
   "metadata": {},
   "outputs": [
    {
     "name": "stdout",
     "output_type": "stream",
     "text": [
      "['hero of ages', 'well of acsension', 'warbreaker', 'Nightblood', 'The Final emire', 'The way of kinds', 'Oathebringer', 'king of Thrones', 'Harry Potter and goblet of fire', 'wind and Truth']\n"
     ]
    }
   ],
   "source": [
    "books.remove(\"New Moon\")\n",
    "print(books)"
   ]
  },
  {
   "cell_type": "code",
   "execution_count": 7,
   "id": "1bf501fb",
   "metadata": {},
   "outputs": [
    {
     "name": "stdout",
     "output_type": "stream",
     "text": [
      "['hero of ages', 'well of acsension', 'warbreaker', 'Nightblood', 'The Final emire', 'The way of kinds', 'Oathebringer', 'king of Thrones', 'Harry Potter and goblet of fire', 'wind and Truth']\n"
     ]
    }
   ],
   "source": [
    "if \"Oatherbringer\" in books:\n",
    "    books.remove(\"Oatherbringer\")\n",
    "print(books)    "
   ]
  },
  {
   "cell_type": "code",
   "execution_count": 8,
   "id": "b5326388",
   "metadata": {},
   "outputs": [
    {
     "data": {
      "text/plain": [
       "'Nightblood'"
      ]
     },
     "execution_count": 8,
     "metadata": {},
     "output_type": "execute_result"
    }
   ],
   "source": [
    "books.pop(3)"
   ]
  },
  {
   "cell_type": "code",
   "execution_count": 9,
   "id": "48dd797f",
   "metadata": {},
   "outputs": [
    {
     "name": "stdout",
     "output_type": "stream",
     "text": [
      "['hero of ages', 'well of acsension', 'warbreaker', 'The Final emire', 'The way of kinds', 'Oathebringer', 'king of Thrones', 'Harry Potter and goblet of fire', 'wind and Truth']\n",
      "9\n"
     ]
    }
   ],
   "source": [
    "print(books)\n",
    "print(len(books))"
   ]
  },
  {
   "cell_type": "code",
   "execution_count": 10,
   "id": "23f66556",
   "metadata": {},
   "outputs": [
    {
     "data": {
      "text/plain": [
       "'wind and Truth'"
      ]
     },
     "execution_count": 10,
     "metadata": {},
     "output_type": "execute_result"
    }
   ],
   "source": [
    "books.pop()"
   ]
  },
  {
   "cell_type": "code",
   "execution_count": 11,
   "id": "aebb898d",
   "metadata": {},
   "outputs": [
    {
     "name": "stdout",
     "output_type": "stream",
     "text": [
      "[]\n"
     ]
    }
   ],
   "source": [
    "books.clear()\n",
    "print(books)"
   ]
  },
  {
   "cell_type": "code",
   "execution_count": 12,
   "id": "611beb69",
   "metadata": {},
   "outputs": [],
   "source": [
    "languages = ['c','python','kotlin','java','Dart','Go','C++','ruby','html','Javascript','Rust']\n",
    "numbers = [12,56,23,66,88,83,90,44,59,34,93,23,43,54,65,89,77,52,13,14,15,16,17]\n",
    "\n",
    "data = [1, 'apple', 2, 'avocado', 3, 'apricot']"
   ]
  },
  {
   "cell_type": "code",
   "execution_count": 13,
   "id": "2da489e7",
   "metadata": {},
   "outputs": [
    {
     "name": "stdout",
     "output_type": "stream",
     "text": [
      "0\n",
      "2\n",
      "1\n"
     ]
    }
   ],
   "source": [
    "print(numbers.count(1))\n",
    "print(numbers.count(23))\n",
    "print(numbers.count(56))\n"
   ]
  },
  {
   "cell_type": "code",
   "execution_count": 14,
   "id": "ca5ccc0c",
   "metadata": {},
   "outputs": [
    {
     "data": {
      "text/plain": [
       "6"
      ]
     },
     "execution_count": 14,
     "metadata": {},
     "output_type": "execute_result"
    }
   ],
   "source": [
    "languages.index('C++')  # 7th index in my list"
   ]
  },
  {
   "cell_type": "code",
   "execution_count": 15,
   "id": "9fc27ac9",
   "metadata": {},
   "outputs": [
    {
     "name": "stdout",
     "output_type": "stream",
     "text": [
      "8\n",
      "3\n",
      "1\n",
      "4\n"
     ]
    }
   ],
   "source": [
    "print(languages.index(\"html\"))\n",
    "print(languages.index(\"java\"))\n",
    "print(languages.index(\"python\"))\n",
    "print(languages.index(\"Dart\"))"
   ]
  },
  {
   "cell_type": "code",
   "execution_count": 16,
   "id": "967fe975",
   "metadata": {},
   "outputs": [
    {
     "name": "stdout",
     "output_type": "stream",
     "text": [
      "original ['c', 'python', 'kotlin', 'java', 'Dart', 'Go', 'C++', 'ruby', 'html', 'Javascript', 'Rust']\n",
      "Sorted ['C++', 'Dart', 'Go', 'Javascript', 'Rust', 'c', 'html', 'java', 'kotlin', 'python', 'ruby']\n",
      "Sorted in reverse ['ruby', 'python', 'kotlin', 'java', 'html', 'c', 'Rust', 'Javascript', 'Go', 'Dart', 'C++']\n"
     ]
    }
   ],
   "source": [
    "print(\"original\", languages)\n",
    "languages.sort() # sort inplace\n",
    "print(\"Sorted\", languages)\n",
    "languages.sort(reverse=True) # sort in reverse\n",
    "print(\"Sorted in reverse\", languages)"
   ]
  },
  {
   "cell_type": "code",
   "execution_count": 17,
   "id": "bd6aa6ee",
   "metadata": {},
   "outputs": [
    {
     "name": "stdout",
     "output_type": "stream",
     "text": [
      "orginal ['ruby', 'python', 'kotlin', 'java', 'html', 'c', 'Rust', 'Javascript', 'Go', 'Dart', 'C++']\n",
      "Reversed ['C++', 'Dart', 'Go', 'Javascript', 'Rust', 'c', 'html', 'java', 'kotlin', 'python', 'ruby']\n"
     ]
    }
   ],
   "source": [
    "print(\"orginal\", languages)\n",
    "languages.reverse()\n",
    "print(\"Reversed\", languages)"
   ]
  },
  {
   "cell_type": "code",
   "execution_count": 18,
   "id": "aa4ac8b1",
   "metadata": {},
   "outputs": [
    {
     "name": "stdout",
     "output_type": "stream",
     "text": [
      "[1, 2, 3, 4]\n",
      "[1, 2, 3, 4]\n",
      "[1, 2, 3, 4]\n",
      "[1, 2, 3, 4]\n",
      "[1, 2, 3, 4]\n",
      "[1, 2, 3, 4, 10, 20]\n"
     ]
    }
   ],
   "source": [
    "x = [1,2,3,4]\n",
    "y = x # deep copy \n",
    "z = x.copy()\n",
    "print(x, y, z, sep='\\n')\n",
    "x.append(10)\n",
    "y.pop()\n",
    "z.append(10)\n",
    "z.append(20)\n",
    "print(x, y, z, sep='\\n')\n"
   ]
  },
  {
   "cell_type": "code",
   "execution_count": 19,
   "id": "43e02ba7",
   "metadata": {},
   "outputs": [],
   "source": [
    "fruits = [\"mango\",\"apple\",\"banana\",\"orange\",\"grapes\",\"custrdapple\",\"pineapple\",\"dragon fruit\",\"watermelon\"]\n",
    "series = [\"money heist\",\"game of thrones\",\"mirzapur\",\"squid game\",\"indor ishq\",\"breaking bad\",\"stranger things\",\"wednesday\",\"vampire diaries\",\"house of the dragons\"]\n",
    "veg=[\"Tamato\",\"brinjal\",\"carrot\",\"raddish\",\"beetroot\",\"Beens\",\"ladies finger\",\"onion\",\"chilli\",\"drumstick\"]\n",
    "bigList=fruits+veg+series"
   ]
  },
  {
   "cell_type": "code",
   "execution_count": 20,
   "id": "f3fdeefc",
   "metadata": {},
   "outputs": [
    {
     "name": "stdout",
     "output_type": "stream",
     "text": [
      "[1, 2, 3, 4, 1, 2, 3]\n"
     ]
    }
   ],
   "source": [
    "x.append(1)\n",
    "x.append(2)\n",
    "x.append(3)\n",
    "print(x)"
   ]
  },
  {
   "cell_type": "code",
   "execution_count": 21,
   "id": "34ee79c6",
   "metadata": {},
   "outputs": [
    {
     "name": "stdout",
     "output_type": "stream",
     "text": [
      "[['red', 'green', 'blue'], ['apple', 'gauva', 'blueberry'], [150, 100, 300]]\n"
     ]
    }
   ],
   "source": [
    "items = [\n",
    "    ['red','green','blue',],\n",
    "    ['apple','gauva','blueberry'],\n",
    "    [150,100,300]\n",
    "]\n",
    "print(items)\n"
   ]
  },
  {
   "cell_type": "code",
   "execution_count": 22,
   "id": "c456dda4",
   "metadata": {},
   "outputs": [
    {
     "name": "stdout",
     "output_type": "stream",
     "text": [
      "size of list 3\n"
     ]
    }
   ],
   "source": [
    "\n",
    "print(\"size of list\", len(items))\n"
   ]
  },
  {
   "cell_type": "code",
   "execution_count": 23,
   "id": "00b98931",
   "metadata": {},
   "outputs": [
    {
     "name": "stdout",
     "output_type": "stream",
     "text": [
      "size of list at index 0 is 3 => ['red', 'green', 'blue']\n",
      "size of list at index 1 is 3 => ['apple', 'gauva', 'blueberry']\n",
      "size of list at index 2 is 3 => [150, 100, 300]\n"
     ]
    }
   ],
   "source": [
    "print(\"size of list at index 0 is\", len(items[0]),\"=>\", items[0])\n",
    "print(\"size of list at index 1 is\", len(items[1]),\"=>\", items[1])\n",
    "print(\"size of list at index 2 is\", len(items[2]),\"=>\", items[2])"
   ]
  },
  {
   "cell_type": "code",
   "execution_count": 24,
   "id": "68d8c3a1",
   "metadata": {},
   "outputs": [
    {
     "name": "stdout",
     "output_type": "stream",
     "text": [
      "Element 0 as List 0 is red\n",
      "Element 0 as List 0 is blue\n",
      "Element 0 as List 0 is apple\n",
      "Element 0 as List 0 is gauva\n"
     ]
    }
   ],
   "source": [
    "print(\"Element 0 as List 0 is\", items[0][0])\n",
    "print(\"Element 0 as List 0 is\", items[0][2])\n",
    "print(\"Element 0 as List 0 is\", items[1][0])\n",
    "print(\"Element 0 as List 0 is\", items[1][1])    "
   ]
  },
  {
   "cell_type": "code",
   "execution_count": 25,
   "id": "4e9af439",
   "metadata": {},
   "outputs": [
    {
     "name": "stdout",
     "output_type": "stream",
     "text": [
      "[[12, 23, 45, 25], [85, 95, 105, 115], [12, 45, 22, 445]]\n"
     ]
    }
   ],
   "source": [
    "matrix = [[12,23,45,25],\n",
    "         [85,95,105,115],\n",
    "          [12,45,22,445]]\n",
    "print(matrix)\n"
   ]
  },
  {
   "cell_type": "code",
   "execution_count": 26,
   "id": "d198dc4d",
   "metadata": {},
   "outputs": [
    {
     "name": "stdout",
     "output_type": "stream",
     "text": [
      "[12, 23, 45, 25]\n",
      "[85, 95, 105, 115]\n",
      "[12, 45, 22, 445]\n"
     ]
    }
   ],
   "source": [
    "print(matrix[0])\n",
    "print(matrix[1])\n",
    "print(matrix[2])\n"
   ]
  },
  {
   "cell_type": "code",
   "execution_count": 27,
   "id": "8c0f6659",
   "metadata": {},
   "outputs": [
    {
     "name": "stdout",
     "output_type": "stream",
     "text": [
      "[12, 23, 45, 25]\n",
      "[85, 95, 105, 115]\n",
      "[12, 45, 22, 445]\n"
     ]
    }
   ],
   "source": [
    "for row in matrix:\n",
    "    print(row)"
   ]
  },
  {
   "cell_type": "code",
   "execution_count": 28,
   "id": "a61f8926",
   "metadata": {},
   "outputs": [
    {
     "name": "stdout",
     "output_type": "stream",
     "text": [
      "12 \n",
      "23 \n",
      "45 \n",
      "25 \n",
      "85 \n",
      "95 \n",
      "105 \n",
      "115 \n",
      "12 \n",
      "45 \n",
      "22 \n",
      "445 \n"
     ]
    }
   ],
   "source": [
    "for row in matrix:\n",
    "    for val in row:\n",
    "        print(val, end=' ')\n",
    "        print()"
   ]
  },
  {
   "cell_type": "code",
   "execution_count": 29,
   "id": "66bd6c6f",
   "metadata": {},
   "outputs": [
    {
     "name": "stdout",
     "output_type": "stream",
     "text": [
      "1029\n"
     ]
    }
   ],
   "source": [
    "total = 0\n",
    "for row in matrix:\n",
    "    for val in row:\n",
    "        total += val\n",
    "print(total)        "
   ]
  },
  {
   "cell_type": "code",
   "execution_count": 30,
   "id": "460ed523",
   "metadata": {},
   "outputs": [
    {
     "name": "stdout",
     "output_type": "stream",
     "text": [
      "160054440127312500000\n"
     ]
    }
   ],
   "source": [
    "total = 1\n",
    "for row in matrix:\n",
    "    for val in row:\n",
    "        total *= val\n",
    "print(total)        "
   ]
  },
  {
   "cell_type": "code",
   "execution_count": 31,
   "id": "2e73e026",
   "metadata": {},
   "outputs": [
    {
     "name": "stdout",
     "output_type": "stream",
     "text": [
      "[12, 23, 45, 25] => 105\n",
      "[85, 95, 105, 115] => 400\n",
      "[12, 45, 22, 445] => 524\n"
     ]
    }
   ],
   "source": [
    "for row in matrix:\n",
    "    total = 0\n",
    "    for value in row:\n",
    "        total += value\n",
    "    print(row, '=>', total)    "
   ]
  },
  {
   "cell_type": "code",
   "execution_count": 32,
   "id": "0b5600d7",
   "metadata": {},
   "outputs": [
    {
     "name": "stdout",
     "output_type": "stream",
     "text": [
      "[12, 23, 45, 25] => 310500\n",
      "[85, 95, 105, 115] => 97505625\n",
      "[12, 45, 22, 445] => 5286600\n"
     ]
    }
   ],
   "source": [
    "for row in matrix:\n",
    "    total = 1\n",
    "    for value in row:\n",
    "        total *= value\n",
    "    print(row, '=>', total)    "
   ]
  },
  {
   "cell_type": "code",
   "execution_count": 33,
   "id": "cc00a070",
   "metadata": {},
   "outputs": [
    {
     "name": "stdout",
     "output_type": "stream",
     "text": [
      "[12, 23, 45, 25] => 26.2\n",
      "[85, 95, 105, 115] => 100.0\n",
      "[12, 45, 22, 445] => 131.0\n"
     ]
    }
   ],
   "source": [
    "for row in matrix:\n",
    "    total = 0\n",
    "    for value in row:\n",
    "        total += value\n",
    "    avg = round(total/len(row),1)\n",
    "    print(row, '=>', avg)          "
   ]
  },
  {
   "cell_type": "code",
   "execution_count": 34,
   "id": "e0f6a459",
   "metadata": {},
   "outputs": [
    {
     "name": "stdout",
     "output_type": "stream",
     "text": [
      "[12, 23, 45, 25]\n",
      "[85, 95, 105, 115]\n",
      "[12, 45, 22, 445]\n",
      "[12, 23, 45, 25]\n",
      "[85, 95, 105, 115]\n",
      "[12, 45, 22, 445]\n",
      "[12, 23, 45, 25]\n",
      "[85, 95, 105, 115]\n",
      "[12, 45, 22, 445]\n",
      "[12, 23, 45, 25]\n",
      "[85, 95, 105, 115]\n",
      "[12, 45, 22, 445]\n"
     ]
    }
   ],
   "source": [
    "size = len(matrix[0])\n",
    "for i in range(size): \n",
    "     total = 0\n",
    "     for r in range(len(matrix)):\n",
    "          print(matrix[r])"
   ]
  },
  {
   "cell_type": "code",
   "execution_count": 35,
   "id": "8cb00291",
   "metadata": {},
   "outputs": [
    {
     "name": "stdout",
     "output_type": "stream",
     "text": [
      "column 0 => 12\n",
      "column 0 => 97\n",
      "column 0 => 109\n",
      "column 1 => 23\n",
      "column 1 => 118\n",
      "column 1 => 163\n",
      "column 2 => 45\n",
      "column 2 => 150\n",
      "column 2 => 172\n",
      "column 3 => 25\n",
      "column 3 => 140\n",
      "column 3 => 585\n"
     ]
    }
   ],
   "source": [
    "size = len(matrix[0])\n",
    "for c in range(size):   \n",
    "     total = 0\n",
    "     for r in range(len(matrix)):\n",
    "          total += matrix[r][c]\n",
    "          print(f\"column {c} => {total}\")"
   ]
  },
  {
   "cell_type": "code",
   "execution_count": 36,
   "id": "7156689e",
   "metadata": {},
   "outputs": [
    {
     "name": "stdout",
     "output_type": "stream",
     "text": [
      "column 0 => -12\n",
      "column 0 => -97\n",
      "column 0 => -109\n",
      "column 1 => -23\n",
      "column 1 => -118\n",
      "column 1 => -163\n",
      "column 2 => -45\n",
      "column 2 => -150\n",
      "column 2 => -172\n",
      "column 3 => -25\n",
      "column 3 => -140\n",
      "column 3 => -585\n"
     ]
    }
   ],
   "source": [
    "size = len(matrix[0])\n",
    "for c in range(size):   \n",
    "     total = 0\n",
    "     for r in range(len(matrix)):\n",
    "          total -= matrix[r][c]\n",
    "          print(f\"column {c} => {total}\")"
   ]
  },
  {
   "cell_type": "code",
   "execution_count": 37,
   "id": "0db5bd60",
   "metadata": {},
   "outputs": [
    {
     "name": "stdout",
     "output_type": "stream",
     "text": [
      "1 \n",
      "5 6 \n",
      "9 10 11 \n",
      "13 14 15 16 \n"
     ]
    }
   ],
   "source": [
    "mat2 = [\n",
    "    [1,2,3,4],\n",
    "    [5,6,7,8],\n",
    "     [9,10,11,12],\n",
    "      [13,14,15,16,17],\n",
    "]\n",
    "for r in range(len(mat2)):\n",
    "    for c in range(len(mat2[0])):\n",
    "        if (c <= r):\n",
    "            print(mat2[r][c], end =\" \")\n",
    "    print()        "
   ]
  },
  {
   "cell_type": "code",
   "execution_count": 38,
   "id": "87697ab6",
   "metadata": {},
   "outputs": [
    {
     "data": {
      "text/plain": [
       "[13, 15, 19]"
      ]
     },
     "execution_count": 38,
     "metadata": {},
     "output_type": "execute_result"
    }
   ],
   "source": [
    "x=[11,12,13,15,19]\n",
    "x[0:3]\n",
    "x[2:5]"
   ]
  },
  {
   "cell_type": "code",
   "execution_count": 39,
   "id": "95005dba",
   "metadata": {},
   "outputs": [
    {
     "data": {
      "text/plain": [
       "[13, 15, 19]"
      ]
     },
     "execution_count": 39,
     "metadata": {},
     "output_type": "execute_result"
    }
   ],
   "source": [
    "x=[11,12,13,15,19]\n",
    "x[0:3]\n",
    "x[2:len(x)]"
   ]
  },
  {
   "cell_type": "code",
   "execution_count": 40,
   "id": "2dde842b",
   "metadata": {},
   "outputs": [
    {
     "data": {
      "text/plain": [
       "['c', 'a', 't', 'i', 'o']"
      ]
     },
     "execution_count": 40,
     "metadata": {},
     "output_type": "execute_result"
    }
   ],
   "source": [
    "x=['e','d','u','c','a','t','i','o','n']\n",
    "x[3:-1]"
   ]
  },
  {
   "cell_type": "code",
   "execution_count": 41,
   "id": "1f35f111",
   "metadata": {},
   "outputs": [
    {
     "data": {
      "text/plain": [
       "'wiliam shakspeare'"
      ]
     },
     "execution_count": 41,
     "metadata": {},
     "output_type": "execute_result"
    }
   ],
   "source": [
    "name= \"wiliam shakspeare\"\n",
    "name[0:18]"
   ]
  },
  {
   "cell_type": "code",
   "execution_count": 42,
   "id": "e8a7c0b2",
   "metadata": {},
   "outputs": [
    {
     "data": {
      "text/plain": [
       "'wiliam '"
      ]
     },
     "execution_count": 42,
     "metadata": {},
     "output_type": "execute_result"
    }
   ],
   "source": [
    "name= \"wiliam shakspeare\"\n",
    "name[:7]"
   ]
  },
  {
   "cell_type": "code",
   "execution_count": 43,
   "id": "8265a89f",
   "metadata": {},
   "outputs": [
    {
     "data": {
      "text/plain": [
       "'hakspeare'"
      ]
     },
     "execution_count": 43,
     "metadata": {},
     "output_type": "execute_result"
    }
   ],
   "source": [
    "name= \"wiliam shakspeare\"\n",
    "name[8:]"
   ]
  },
  {
   "cell_type": "code",
   "execution_count": 44,
   "id": "de215016",
   "metadata": {},
   "outputs": [
    {
     "data": {
      "text/plain": [
       "'sandeepreddy'"
      ]
     },
     "execution_count": 44,
     "metadata": {},
     "output_type": "execute_result"
    }
   ],
   "source": [
    "name=\"s a n d e e p r e d d y\"\n",
    "name[0:len(name):2]\n",
    "name[::2]"
   ]
  },
  {
   "cell_type": "code",
   "execution_count": 45,
   "id": "4e542bf9",
   "metadata": {},
   "outputs": [
    {
     "data": {
      "text/plain": [
       "'           '"
      ]
     },
     "execution_count": 45,
     "metadata": {},
     "output_type": "execute_result"
    }
   ],
   "source": [
    "name=\"s a n d e e p r e d d y\"\n",
    "name[0:len(name):2]\n",
    "name[::2]\n",
    "name[1::2]"
   ]
  },
  {
   "cell_type": "code",
   "execution_count": 46,
   "id": "b5e21b47",
   "metadata": {},
   "outputs": [
    {
     "data": {
      "text/plain": [
       "'vjydeaahcahn'"
      ]
     },
     "execution_count": 46,
     "metadata": {},
     "output_type": "execute_result"
    }
   ],
   "source": [
    "name=\"vijay deenanath chavhan\"\n",
    "fname = name[ : 5]\n",
    "mname = name[6 : 15]\n",
    "Lname = name[-7 :]\n",
    "name[: : 2]\n"
   ]
  },
  {
   "cell_type": "code",
   "execution_count": 47,
   "id": "5f065196",
   "metadata": {},
   "outputs": [
    {
     "name": "stdout",
     "output_type": "stream",
     "text": [
      "13\n",
      "11\n",
      "9\n",
      "7\n",
      "6\n",
      "4\n",
      "3\n",
      "2\n",
      "1\n"
     ]
    }
   ],
   "source": [
    "x=[1,2,3,4,6,7,9,11,13]\n",
    "for item in x[::-1]:\n",
    "    print(item)"
   ]
  },
  {
   "cell_type": "markdown",
   "id": "a3cb9b8d",
   "metadata": {},
   "source": [
    "Reverse a list in place"
   ]
  },
  {
   "cell_type": "code",
   "execution_count": 48,
   "id": "b11273e1",
   "metadata": {},
   "outputs": [],
   "source": [
    "a=[1,2,3]\n",
    "a[:]   # get al element\n",
    "a[:]=a[: :-1]"
   ]
  },
  {
   "cell_type": "markdown",
   "id": "cc1f90d7",
   "metadata": {},
   "source": [
    "Rotate list"
   ]
  },
  {
   "cell_type": "code",
   "execution_count": 49,
   "id": "569555d3",
   "metadata": {},
   "outputs": [
    {
     "name": "stdout",
     "output_type": "stream",
     "text": [
      "[1, 2, 3, 4, 5] [3, 4, 5, 1, 2]\n"
     ]
    }
   ],
   "source": [
    "x=[1,2,3,4,5]\n",
    "ans=x[2:]+x[:2]\n",
    "print(x,ans)"
   ]
  },
  {
   "cell_type": "markdown",
   "id": "ae7a7a71",
   "metadata": {},
   "source": [
    "Compraehension"
   ]
  },
  {
   "cell_type": "code",
   "execution_count": 50,
   "id": "a4fd1acc",
   "metadata": {},
   "outputs": [
    {
     "name": "stdout",
     "output_type": "stream",
     "text": [
      "[1, 3, 4, 5] [2]\n",
      "[1, 3, 4, 5] [2, 6]\n",
      "[1, 3, 4, 5] [2, 6, 8]\n",
      "[1, 3, 4, 5] [2, 6, 8, 10]\n"
     ]
    }
   ],
   "source": [
    "x=[1,3,4,5]\n",
    "x2=[]\n",
    "for i in x:\n",
    "    s=i*2\n",
    "    x2.append(s)\n",
    "    print(x,x2)"
   ]
  },
  {
   "cell_type": "code",
   "execution_count": 51,
   "id": "4a0cf0e9",
   "metadata": {},
   "outputs": [
    {
     "name": "stdout",
     "output_type": "stream",
     "text": [
      "[4, 8, 12, 16] [2]\n",
      "[4, 8, 12, 16] [2, 4]\n",
      "[4, 8, 12, 16] [2, 4, 6]\n",
      "[4, 8, 12, 16] [2, 4, 6, 8]\n"
     ]
    }
   ],
   "source": [
    "x=[4,8,12,16]\n",
    "x3=[]\n",
    "for i in x:\n",
    "    x3.append(i//2)\n",
    "    print(x,x3)"
   ]
  },
  {
   "cell_type": "code",
   "execution_count": 52,
   "id": "46f880b8",
   "metadata": {},
   "outputs": [
    {
     "name": "stdout",
     "output_type": "stream",
     "text": [
      "[1, 2, 3]\n",
      "[4, 5, 6]\n",
      "[5, 7, 9, 5, 7, 9]\n"
     ]
    }
   ],
   "source": [
    "x=[1,2,3]\n",
    "y=[4,5,6,]\n",
    "xy=[5,7,9]\n",
    "for i,j in zip(x,y):\n",
    "    xy.append(i+j)\n",
    "print(x,y,xy, sep=\"\\n\")    "
   ]
  },
  {
   "cell_type": "code",
   "execution_count": 53,
   "id": "710613f6",
   "metadata": {},
   "outputs": [],
   "source": [
    "z=[2,3,4]\n",
    "zsqr=[]\n",
    "for i in z:\n",
    "    zsqr.append(1**2)"
   ]
  },
  {
   "cell_type": "code",
   "execution_count": 54,
   "id": "981405d3",
   "metadata": {},
   "outputs": [
    {
     "name": "stdout",
     "output_type": "stream",
     "text": [
      "(1, 2, 3)\n"
     ]
    }
   ],
   "source": [
    "my_tupple = (1 ,2, 3)\n",
    "print(my_tupple)"
   ]
  },
  {
   "cell_type": "code",
   "execution_count": 55,
   "id": "d5387e86",
   "metadata": {},
   "outputs": [
    {
     "name": "stdout",
     "output_type": "stream",
     "text": [
      "(1, 2, 3)\n"
     ]
    }
   ],
   "source": [
    "my_tuple = (1,\"Hello\", 3.4)\n",
    "print(my_tupple)"
   ]
  },
  {
   "cell_type": "code",
   "execution_count": 56,
   "id": "508ca2c6",
   "metadata": {},
   "outputs": [
    {
     "name": "stdout",
     "output_type": "stream",
     "text": [
      "(1, 2, 3)\n"
     ]
    }
   ],
   "source": [
    "my_tuple = (\"mouse\",[8, 4, 6], (1, 2, 3))\n",
    "print(my_tupple)"
   ]
  },
  {
   "cell_type": "code",
   "execution_count": 57,
   "id": "34cefbd6",
   "metadata": {},
   "outputs": [
    {
     "name": "stdout",
     "output_type": "stream",
     "text": [
      "(3, 4, 6, 'apple')\n"
     ]
    }
   ],
   "source": [
    "my_tuple = 3,4,6, \"apple\"\n",
    "print(my_tuple)"
   ]
  },
  {
   "cell_type": "code",
   "execution_count": 58,
   "id": "becfe39f",
   "metadata": {},
   "outputs": [
    {
     "name": "stdout",
     "output_type": "stream",
     "text": [
      "p\n",
      "t\n"
     ]
    }
   ],
   "source": [
    "my_tuple = ('p','e','r','m','i','t')\n",
    "\n",
    "print(my_tuple[0])\n",
    "print(my_tuple[5])\n"
   ]
  },
  {
   "cell_type": "code",
   "execution_count": 59,
   "id": "3fc4d849",
   "metadata": {},
   "outputs": [
    {
     "name": "stdout",
     "output_type": "stream",
     "text": [
      "s\n",
      "4\n"
     ]
    }
   ],
   "source": [
    "n_tuple = (\"mouse\",[8, 4, 6],(1, 2, 3))\n",
    "\n",
    "print(n_tuple[0][3])\n",
    "print(n_tuple[1][1])\n"
   ]
  },
  {
   "cell_type": "code",
   "execution_count": 60,
   "id": "8aebfe12",
   "metadata": {},
   "outputs": [],
   "source": [
    "my_tuple = ('e','x','c','a','l','i','b','u','r')"
   ]
  },
  {
   "cell_type": "code",
   "execution_count": 61,
   "id": "651f3a74",
   "metadata": {},
   "outputs": [
    {
     "name": "stdout",
     "output_type": "stream",
     "text": [
      "('x', 'c', 'a')\n"
     ]
    }
   ],
   "source": [
    "print(my_tuple[1:4])"
   ]
  },
  {
   "cell_type": "code",
   "execution_count": 62,
   "id": "c200e030",
   "metadata": {},
   "outputs": [
    {
     "name": "stdout",
     "output_type": "stream",
     "text": [
      "('e', 'x')\n"
     ]
    }
   ],
   "source": [
    "print(my_tuple[:-7])"
   ]
  },
  {
   "cell_type": "code",
   "execution_count": 63,
   "id": "1d22dc2e",
   "metadata": {},
   "outputs": [
    {
     "name": "stdout",
     "output_type": "stream",
     "text": [
      "()\n"
     ]
    }
   ],
   "source": [
    "print(my_tuple[7:1])"
   ]
  },
  {
   "cell_type": "code",
   "execution_count": 64,
   "id": "f18bcd63",
   "metadata": {},
   "outputs": [
    {
     "name": "stdout",
     "output_type": "stream",
     "text": [
      "('e',)\n"
     ]
    }
   ],
   "source": [
    "print(my_tuple[:1])"
   ]
  },
  {
   "cell_type": "code",
   "execution_count": 65,
   "id": "12da157c",
   "metadata": {},
   "outputs": [
    {
     "name": "stdout",
     "output_type": "stream",
     "text": [
      "(1, 2, 3, 4, 5, 6)\n"
     ]
    }
   ],
   "source": [
    "print((1,2,3) + (4,5,6))"
   ]
  },
  {
   "cell_type": "code",
   "execution_count": 66,
   "id": "2603c843",
   "metadata": {},
   "outputs": [
    {
     "name": "stdout",
     "output_type": "stream",
     "text": [
      "('Repeat', 'Repeat', 'Repeat')\n"
     ]
    }
   ],
   "source": [
    "print((\"Repeat\",) * 3)"
   ]
  },
  {
   "cell_type": "code",
   "execution_count": 67,
   "id": "fc6eb71e",
   "metadata": {},
   "outputs": [
    {
     "name": "stdout",
     "output_type": "stream",
     "text": [
      "2\n",
      "1\n"
     ]
    }
   ],
   "source": [
    "my_tuple = ('a', 'p', 'p', 'l', 'e',)\n",
    "print(my_tuple.count('p'))\n",
    "print(my_tuple.count('l'))"
   ]
  },
  {
   "cell_type": "markdown",
   "id": "afe30e3f",
   "metadata": {},
   "source": [
    "string creation\n",
    "a ='apple'\n",
    "b =\"banana\"\n",
    "c='''This is choclate cake'''"
   ]
  },
  {
   "cell_type": "code",
   "execution_count": 68,
   "id": "e1d16788",
   "metadata": {},
   "outputs": [
    {
     "name": "stdout",
     "output_type": "stream",
     "text": [
      "10 <class 'str'>\n",
      "['apple', 'banana'] <class 'str'>\n"
     ]
    }
   ],
   "source": [
    "x= str(10)\n",
    "y= str([\"apple\",\"banana\"])\n",
    "print(x,type(x))\n",
    "print(y,type(y))"
   ]
  },
  {
   "cell_type": "code",
   "execution_count": 69,
   "id": "443320cf",
   "metadata": {},
   "outputs": [
    {
     "name": "stdout",
     "output_type": "stream",
     "text": [
      "theointeis,i am not disapointed\n"
     ]
    }
   ],
   "source": [
    "x='disapointed'\n",
    "y=x[5:10]\n",
    "print(f\"the{y}is,i am not {x}\")"
   ]
  },
  {
   "cell_type": "code",
   "execution_count": 70,
   "id": "1a064264",
   "metadata": {},
   "outputs": [
    {
     "name": "stdout",
     "output_type": "stream",
     "text": [
      "Jony jony yes papa,\n"
     ]
    }
   ],
   "source": [
    "poem='''Jony jony yes papa,\n",
    "        eating sugar no papa,\n",
    "        telling lis no papa,\n",
    "        open your mouth ha ha ha,'''\n",
    "y = poem[0:19]\n",
    "print(f\"{y}\")"
   ]
  },
  {
   "cell_type": "markdown",
   "id": "308be79f",
   "metadata": {},
   "source": [
    "sting\n",
    "Functon\n",
    "Formatting"
   ]
  },
  {
   "cell_type": "code",
   "execution_count": 71,
   "id": "793d7d83",
   "metadata": {},
   "outputs": [
    {
     "name": "stdout",
     "output_type": "stream",
     "text": [
      "Maintain silence in Library\n",
      "MAINTAIN SILENCE IN LIBRARY\n"
     ]
    }
   ],
   "source": [
    "s=\"Maintain silence in Library\"\n",
    "suppen=s.upper()\n",
    "print(s)\n",
    "print(suppen)"
   ]
  },
  {
   "cell_type": "code",
   "execution_count": 72,
   "id": "bb67b4f4",
   "metadata": {},
   "outputs": [
    {
     "name": "stdout",
     "output_type": "stream",
     "text": [
      "Maintain silence in Library\n",
      "maintain silence in library\n",
      "Maintain silence in library\n",
      "Maintain Silence In Library\n"
     ]
    }
   ],
   "source": [
    "slower = s.lower()\n",
    "scaptalize = s.capitalize()\n",
    "stitles = s.title()\n",
    "print(s)\n",
    "print(slower)\n",
    "print(scaptalize)\n",
    "print(stitles)"
   ]
  },
  {
   "cell_type": "code",
   "execution_count": 73,
   "id": "e1c0c207",
   "metadata": {},
   "outputs": [
    {
     "name": "stdout",
     "output_type": "stream",
     "text": [
      "seven\n",
      "seven     \n",
      "seven-----\n"
     ]
    }
   ],
   "source": [
    "a = \"seven\"\n",
    "a1=a.ljust(10)\n",
    "print(a)\n",
    "print(a1)\n",
    "a2 = a.ljust(10,'-')\n",
    "print(a2)"
   ]
  },
  {
   "cell_type": "code",
   "execution_count": 74,
   "id": "637619b3",
   "metadata": {},
   "outputs": [
    {
     "name": "stdout",
     "output_type": "stream",
     "text": [
      "               seven\n",
      "|||||||||||||||seven\n",
      "    seven    \n",
      "****seven****\n"
     ]
    }
   ],
   "source": [
    "a=\"seven\"\n",
    "a1=a.ljust(10)\n",
    "a2=a.ljust(10,'-')\n",
    "a3=a.rjust(20)\n",
    "a4=a.rjust(20,'|')\n",
    "a5=a.center(13)\n",
    "a6=a.center(13,'*')\n",
    "print(a3,a4,a5,a6,sep='\\n')"
   ]
  },
  {
   "cell_type": "markdown",
   "id": "a72b65ec",
   "metadata": {},
   "source": [
    "Dictionary\n",
    "2 ways to store data in python\n",
    "\n",
    "1.List-> indexed based\n",
    "2.Dictionary -> key value pair"
   ]
  },
  {
   "cell_type": "code",
   "execution_count": 76,
   "id": "f982e80b",
   "metadata": {},
   "outputs": [
    {
     "name": "stdout",
     "output_type": "stream",
     "text": [
      "{}\n",
      "<class 'dict'>\n",
      "{}\n"
     ]
    }
   ],
   "source": [
    "# creating a dictionary\n",
    "d = {} # empty dict\n",
    "print(d)\n",
    "print(type(d))\n",
    "d1={}\n",
    "print(d1)"
   ]
  },
  {
   "cell_type": "code",
   "execution_count": 79,
   "id": "c5be927a",
   "metadata": {},
   "outputs": [
    {
     "name": "stdout",
     "output_type": "stream",
     "text": [
      "{'color': 'orange', 'shape': 'circle', 'size': '2 Meter', 'material': 'plastic'}\n"
     ]
    }
   ],
   "source": [
    "d3={\n",
    "    'color': 'orange',\n",
    "    'shape':'circle',\n",
    "    'size':'2 Meter',\n",
    "    'material':'plastic'\n",
    "}\n",
    "print(d3)    \n",
    " "
   ]
  },
  {
   "cell_type": "code",
   "execution_count": 82,
   "id": "f949c6bb",
   "metadata": {},
   "outputs": [
    {
     "name": "stdout",
     "output_type": "stream",
     "text": [
      "{'fact1': 'All keys in a dictionary should be uniqe', 'fact2': 'keys are imutable so only strings and tuples are allowed as keys', 'fact3': 'value of a key can be of any type -> str, number,list,dist'}\n"
     ]
    }
   ],
   "source": [
    "info = {\n",
    "    'fact1': 'All keys in a dictionary should be uniqe',\n",
    "    'fact2': 'keys are imutable so only strings and tuples are allowed as keys',\n",
    "    'fact3': 'value of a key can be of any type -> str, number,list,dist'\n",
    "}\n",
    "print(info)"
   ]
  },
  {
   "cell_type": "code",
   "execution_count": 83,
   "id": "1e74cd49",
   "metadata": {},
   "outputs": [
    {
     "name": "stdout",
     "output_type": "stream",
     "text": [
      "{'name': 'Mobile', 'price': '900000', 'features': {'camara': '64 Mp', 'os': 18, 'Ram': '16 gb'}, 'brand': 'oneplus', 'model': 'onplus 13', 'popular': True, 'value for money ': False, 'colors': ['orange', 'red', 'blue']}\n"
     ]
    }
   ],
   "source": [
    "product = {\n",
    "    'name' : 'Mobile',\n",
    "    'price': '900000',\n",
    "    'features': {'camara':'64 Mp','os':18,'Ram': '16 gb'},\n",
    "    'brand': 'oneplus',\n",
    "    'model': 'onplus 13',\n",
    "    'popular': True,\n",
    "    'value for money ': False,\n",
    "    'colors' : ['orange','red','blue']\n",
    "}\n",
    "print(product)"
   ]
  },
  {
   "cell_type": "code",
   "execution_count": 86,
   "id": "ae0bf31e",
   "metadata": {},
   "outputs": [
    {
     "data": {
      "text/plain": [
       "'900000'"
      ]
     },
     "execution_count": 86,
     "metadata": {},
     "output_type": "execute_result"
    }
   ],
   "source": [
    "product['price']"
   ]
  },
  {
   "cell_type": "code",
   "execution_count": 89,
   "id": "b4660cc2",
   "metadata": {},
   "outputs": [
    {
     "ename": "KeyError",
     "evalue": "'discount'",
     "output_type": "error",
     "traceback": [
      "\u001b[31m---------------------------------------------------------------------------\u001b[39m",
      "\u001b[31mKeyError\u001b[39m                                  Traceback (most recent call last)",
      "\u001b[36mCell\u001b[39m\u001b[36m \u001b[39m\u001b[32mIn[89]\u001b[39m\u001b[32m, line 1\u001b[39m\n\u001b[32m----> \u001b[39m\u001b[32m1\u001b[39m \u001b[43mproduct\u001b[49m\u001b[43m[\u001b[49m\u001b[33;43m'\u001b[39;49m\u001b[33;43mdiscount\u001b[39;49m\u001b[33;43m'\u001b[39;49m\u001b[43m]\u001b[49m\n",
      "\u001b[31mKeyError\u001b[39m: 'discount'"
     ]
    }
   ],
   "source": [
    "product['discount']"
   ]
  },
  {
   "cell_type": "code",
   "execution_count": 90,
   "id": "8cbbb56b",
   "metadata": {},
   "outputs": [
    {
     "data": {
      "text/plain": [
       "{'camara': '64 Mp', 'os': 18, 'Ram': '16 gb'}"
      ]
     },
     "execution_count": 90,
     "metadata": {},
     "output_type": "execute_result"
    }
   ],
   "source": [
    "product['features']"
   ]
  },
  {
   "cell_type": "code",
   "execution_count": 91,
   "id": "c7679ade",
   "metadata": {},
   "outputs": [
    {
     "data": {
      "text/plain": [
       "dict_keys(['name', 'price', 'features', 'brand', 'model', 'popular', 'value for money ', 'colors'])"
      ]
     },
     "execution_count": 91,
     "metadata": {},
     "output_type": "execute_result"
    }
   ],
   "source": [
    "product.keys() "
   ]
  },
  {
   "cell_type": "code",
   "execution_count": 92,
   "id": "adac740f",
   "metadata": {},
   "outputs": [
    {
     "data": {
      "text/plain": [
       "dict_items([('name', 'Mobile'), ('price', '900000'), ('features', {'camara': '64 Mp', 'os': 18, 'Ram': '16 gb'}), ('brand', 'oneplus'), ('model', 'onplus 13'), ('popular', True), ('value for money ', False), ('colors', ['orange', 'red', 'blue'])])"
      ]
     },
     "execution_count": 92,
     "metadata": {},
     "output_type": "execute_result"
    }
   ],
   "source": [
    "product.items()"
   ]
  },
  {
   "cell_type": "code",
   "execution_count": 93,
   "id": "a63a94b8",
   "metadata": {},
   "outputs": [
    {
     "name": "stdout",
     "output_type": "stream",
     "text": [
      "onplus 13\n",
      "{'camara': '64 Mp', 'os': 18, 'Ram': '16 gb'}\n",
      "900000\n",
      "None\n"
     ]
    }
   ],
   "source": [
    "print(product.get('model'))\n",
    "print(product.get('features'))\n",
    "print(product.get('price'))\n",
    "print(product.get('discount'))"
   ]
  },
  {
   "cell_type": "code",
   "execution_count": 103,
   "id": "4f73345f",
   "metadata": {},
   "outputs": [
    {
     "name": "stdout",
     "output_type": "stream",
     "text": [
      "{'name': 'william shakesphere'}\n",
      "{'name': 'william shakesphere', 'books': ['julias ceaser', 'Merchant of venice']}\n",
      "{'name': 'william shakesphere', 'books': ['julias ceaser', 'Merchant of venice'], 'born': 'April 1564', 'died': 'April 1616', 'overview': 'A english playright,poet and actor.\\n\"Regarded as the gratest writer in english.'}\n"
     ]
    }
   ],
   "source": [
    "d['name'] =\"william shakesphere\"\n",
    "print(d)\n",
    "d['books' ]=['julias ceaser','Merchant of venice']\n",
    "print(d)\n",
    "d['born'] = \"April 1564\"\n",
    "d['died'] = \"April 1616\"\n",
    "d['overview'] = '''A english playright,poet and actor.\n",
    "\"Regarded as the gratest writer in english.'''\n",
    "print(d)\n",
    "\n",
    "\n"
   ]
  },
  {
   "cell_type": "code",
   "execution_count": 1,
   "id": "f1ad44b3",
   "metadata": {},
   "outputs": [
    {
     "name": "stdout",
     "output_type": "stream",
     "text": [
      "contact Book\n",
      "Search Contact\n",
      "💀 Contact not found\n",
      "Okay 🙂\n",
      "👋 Byeee\n"
     ]
    }
   ],
   "source": [
    "contacts = {\n",
    "    'emergency' : 108\n",
    "}\n",
    "print(\"contact Book\")\n",
    "while True:\n",
    "    print(\"Search Contact\")\n",
    "    name = input(\"Name 👉 \")\n",
    "    if name in contacts:\n",
    "        print(\"🔎 Contact  found\")\n",
    "        print(name, '🤙', contacts.get(name))\n",
    "    else:\n",
    "        print(\"💀 Contact not found\")\n",
    "        ch = input(\"Don you want to add it? Y/N : \")\n",
    "        if ch == 'Y':\n",
    "            num = input(\"Enter (name)'s number: \")\n",
    "            contacts[name] = num\n",
    "            print(\"✅ Success! contact added\")\n",
    "        else:\n",
    "            print(\"Okay 🙂\")\n",
    "    quit = input(\"Do you want to continue? Y/N\")\n",
    "    if quit != 'Y' or quit != 'y':\n",
    "        print(\"👋 Byeee\")\n",
    "        break"
   ]
  },
  {
   "cell_type": "markdown",
   "id": "e58d5adf",
   "metadata": {},
   "source": [
    "a simple contact book using temp storage (dictionary)"
   ]
  }
 ],
 "metadata": {
  "kernelspec": {
   "display_name": "Python 3",
   "language": "python",
   "name": "python3"
  },
  "language_info": {
   "codemirror_mode": {
    "name": "ipython",
    "version": 3
   },
   "file_extension": ".py",
   "mimetype": "text/x-python",
   "name": "python",
   "nbconvert_exporter": "python",
   "pygments_lexer": "ipython3",
   "version": "3.13.6"
  }
 },
 "nbformat": 4,
 "nbformat_minor": 5
}
