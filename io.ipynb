{
 "cells": [
  {
   "cell_type": "code",
   "execution_count": null,
   "id": "b9c5447f",
   "metadata": {},
   "outputs": [],
   "source": []
  },
  {
   "cell_type": "code",
   "execution_count": 1,
   "id": "45841ddb",
   "metadata": {},
   "outputs": [
    {
     "name": "stdout",
     "output_type": "stream",
     "text": [
      "sandeep reddy\n"
     ]
    }
   ],
   "source": [
    "print(\"sandeep reddy\")"
   ]
  },
  {
   "cell_type": "code",
   "execution_count": 7,
   "id": "59fa01c3",
   "metadata": {},
   "outputs": [
    {
     "name": "stdout",
     "output_type": "stream",
     "text": [
      "you see a apple seller\n",
      "purchase 2kg of apples \n"
     ]
    }
   ],
   "source": [
    "print(\"you see a apple seller\")\n",
    "q= input (\"do you like apples?\")\n",
    "\n",
    "if q == \"yes\":\n",
    "    print(\"purchase 2kg of apples \")\n",
    "if q == \"no\":\n",
    "    print(\"you dont purchase apples\")"
   ]
  },
  {
   "cell_type": "code",
   "execution_count": 5,
   "id": "04e292f5",
   "metadata": {},
   "outputs": [
    {
     "name": "stdout",
     "output_type": "stream",
     "text": [
      "total salary is 42000\n"
     ]
    }
   ],
   "source": [
    "salary = 42000\n",
    "da=0\n",
    "if salary > 50000:\n",
    "    da = .15\n",
    "total = salary + salary *da\n",
    "print(f\"total salary is {total}\")        "
   ]
  },
  {
   "cell_type": "code",
   "execution_count": 16,
   "id": "19f6e44f",
   "metadata": {},
   "outputs": [
    {
     "name": "stdout",
     "output_type": "stream",
     "text": [
      "total salary is 42000\n"
     ]
    }
   ],
   "source": [
    "salary = 42000\n",
    "if salary > 50000:\n",
    "    da=.15\n",
    "    total = salary + salary * da \n",
    "else: \n",
    "    total=salary \n",
    "print(f\"total salary is {total}\")"
   ]
  },
  {
   "cell_type": "markdown",
   "id": "257dfc4e",
   "metadata": {},
   "source": [
    "X=int(input())\n",
    "Y=int(input())\n",
    "if X>Y:\n",
    "    q=X-Y\n",
    "else\n",
    "    a=Y-X"
   ]
  },
  {
   "cell_type": "markdown",
   "id": "ba3c627b",
   "metadata": {},
   "source": [
    "X=int(input())\n",
    "Y=int(input())\n",
    "if X>Y:\n",
    "    q=X-Y\n",
    "else\n",
    "    a=Y-X"
   ]
  },
  {
   "cell_type": "code",
   "execution_count": 21,
   "id": "1ec20400",
   "metadata": {},
   "outputs": [
    {
     "name": "stdout",
     "output_type": "stream",
     "text": [
      "long movie name:batman the beginning\n",
      "the end\n"
     ]
    }
   ],
   "source": [
    "name = input(\"enter your fav movie\")\n",
    "if len(name)>10:\n",
    "    print(f\"long movie name:{name}\")\n",
    "else:\n",
    "    print(f\"short movie name:{name}\")\n",
    "print(\"the end\")"
   ]
  },
  {
   "cell_type": "code",
   "execution_count": 9,
   "id": "121ff6a8",
   "metadata": {},
   "outputs": [
    {
     "name": "stdout",
     "output_type": "stream",
     "text": [
      "what is the capital of india\n",
      "you are very correct\n"
     ]
    }
   ],
   "source": [
    "print(\"what is the capital of india\")\n",
    "answer = input (\"Answer\")\n",
    "if answer ==  \"Delhi\":\n",
    "    print(\"you are correct\")\n",
    "if answer == \"New Delhi\":   \n",
    "    print (\"you are very correct\")\n",
    "if answer == \"I dont know\":\n",
    "    print (\"youo must be sleeping under rock\")\n",
    "if answer == \"Shimla\":\n",
    "    print (\"you must be a Britain\")"
   ]
  },
  {
   "cell_type": "code",
   "execution_count": null,
   "id": "fbb9d256",
   "metadata": {},
   "outputs": [
    {
     "name": "stdout",
     "output_type": "stream",
     "text": [
      "Your grade: ☠️\n"
     ]
    }
   ],
   "source": [
    "marks = int(input(\"enter your total marks in 10th:\"))\n",
    "if marks  > 90:\n",
    "    print(\"Your grade : A\")\n",
    "if marks > 75:\n",
    "    print(\"Your grade: B\")\n",
    "if marks > 60:\n",
    "    print(\"Your grade: C\")\n",
    "if marks > 40:\n",
    "    print(\"Your grade: D\")\n",
    "if marks < 40:\n",
    "    print(\"Your grade: ☠️\")\n"
   ]
  },
  {
   "cell_type": "code",
   "execution_count": 17,
   "id": "40c6a28b",
   "metadata": {},
   "outputs": [
    {
     "name": "stdout",
     "output_type": "stream",
     "text": [
      "Your grade : A\n"
     ]
    }
   ],
   "source": [
    "marks = int(input(\"enter your total marks in 10th:\"))\n",
    "if marks  > 90:\n",
    "    print(\"Your grade : A\")\n",
    "elif marks > 75:\n",
    "    print(\"Your grade: B\")\n",
    "elif marks > 60:\n",
    "    print(\"Your grade: C\")\n",
    "elif marks > 40:\n",
    "    print(\"Your grade: D\")\n",
    "elif marks < 40:\n",
    "    print(\"Your grade: ☠️\")\n"
   ]
  },
  {
   "cell_type": "code",
   "execution_count": 22,
   "id": "cdea7bea",
   "metadata": {},
   "outputs": [
    {
     "name": "stdout",
     "output_type": "stream",
     "text": [
      "Your grade: B\n"
     ]
    }
   ],
   "source": [
    "marks = int(input(\"enter your total marks in 10th:\"))\n",
    "if marks  > 90 and marks <=100:\n",
    "    print(\"Your grade : A\")\n",
    "if marks > 75 and marks <=90:\n",
    "    print(\"Your grade: B\")\n",
    "if marks > 60 and marks <= 75:\n",
    "    print(\"Your grade: C\")\n",
    "if marks > 40 and marks <=60:\n",
    "    print(\"Your grade: D\")\n",
    "if marks < 40:\n",
    "    print(\"Your grade: ☠️\")\n"
   ]
  },
  {
   "cell_type": "code",
   "execution_count": 8,
   "id": "2c69cfbe",
   "metadata": {},
   "outputs": [
    {
     "name": "stdout",
     "output_type": "stream",
     "text": [
      "frds salary =>19999\n",
      "frds total =>29999\n"
     ]
    }
   ],
   "source": [
    "salary = int (input (\"Enter your frds salary:\"))\n",
    "if salary > 100000:\n",
    "    total = salary - salary * .2\n",
    "elif salary > 80000:\n",
    "    total = salary - salary * .1\n",
    "elif salary > 50000:\n",
    "    total = salary - salary * .05\n",
    "else:\n",
    "    total = salary + 10000\n",
    "print(f'frds salary =>{salary}')\n",
    "print(f'frds total =>{total}')"
   ]
  },
  {
   "cell_type": "code",
   "execution_count": null,
   "id": "df8fd7ea",
   "metadata": {},
   "outputs": [],
   "source": []
  }
 ],
 "metadata": {
  "kernelspec": {
   "display_name": "Python 3",
   "language": "python",
   "name": "python3"
  },
  "language_info": {
   "codemirror_mode": {
    "name": "ipython",
    "version": 3
   },
   "file_extension": ".py",
   "mimetype": "text/x-python",
   "name": "python",
   "nbconvert_exporter": "python",
   "pygments_lexer": "ipython3",
   "version": "3.13.6"
  }
 },
 "nbformat": 4,
 "nbformat_minor": 5
}
