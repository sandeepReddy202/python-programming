{
 "cells": [
  {
   "cell_type": "code",
   "execution_count": 1,
   "id": "87be1a09",
   "metadata": {},
   "outputs": [
    {
     "name": "stdout",
     "output_type": "stream",
     "text": [
      "['saaho', 'kannapa', 'orange', 'bahubali', 'rrr', 'vikram', 'lucky basker', 'sarkaru vari pata', 'bussinessman', 'jailar', 'mirai', 'kgf', 'puspha', 'court', 'animal']\n",
      "[5, 7, 6, 8, 3, 6, 12, 17, 12, 6, 5, 3, 6, 5, 6]\n"
     ]
    }
   ],
   "source": [
    "movies=['saaho','kannapa','orange','bahubali','rrr','vikram','lucky basker','sarkaru vari pata','bussinessman','jailar','mirai','kgf','puspha','court','animal']\n",
    "movielen=[]\n",
    "for movie in movies:\n",
    "    size = len(movie)\n",
    "    movielen.append(size)\n",
    "print(movies)\n",
    "print(movielen)    \n"
   ]
  },
  {
   "cell_type": "code",
   "execution_count": 5,
   "id": "417242f0",
   "metadata": {},
   "outputs": [
    {
     "name": "stdout",
     "output_type": "stream",
     "text": [
      "['saahio', 'kannapa', 'orange', 'bahubali', 'rrr', 'vikram', 'lucky basker', 'sarkaru vari pata', 'bussinessman', 'jailar', 'mirai', 'kgf', 'puspha', 'court', 'animal']\n",
      "[6, 7, 6, 8, 3, 6, 12, 17, 12, 6, 5, 3, 6, 5, 6]\n"
     ]
    }
   ],
   "source": [
    "movielen=[len(movie) for movie in movies]\n",
    "print(movies)\n",
    "print(movielen)"
   ]
  },
  {
   "cell_type": "code",
   "execution_count": null,
   "id": "17797307",
   "metadata": {},
   "outputs": [],
   "source": []
  },
  {
   "cell_type": "code",
   "execution_count": 3,
   "id": "54346efe",
   "metadata": {},
   "outputs": [
    {
     "data": {
      "text/plain": [
       "['Baahubali: The Beginning',\n",
       " 'Baahubali 2: The Conclusion',\n",
       " 'IKGF: Chapter 1',\n",
       " 'KGF: chapter 2',\n",
       " 'Jai Bhim',\n",
       " 'Asuran',\n",
       " 'Vada chennai',\n",
       " 'KAntara',\n",
       " '777 Charli',\n",
       " 'Saaho',\n",
       " 'Orange',\n",
       " 'Bussinessman',\n",
       " 'Animal',\n",
       " 'Vikram']"
      ]
     },
     "execution_count": 3,
     "metadata": {},
     "output_type": "execute_result"
    }
   ],
   "source": [
    "movies = [\n",
    "    \"Baahubali: The Beginning\",\"Baahubali 2: The Conclusion\",\"I\"\n",
    "    \"KGF: Chapter 1\",\"KGF: chapter 2\",\"Jai Bhim\",\"Asuran\",\n",
    "    \"Vada chennai\",\"KAntara\",\"777 Charli\",\"Saaho\",\"Orange\",\"Bussinessman\",\"Animal\",\"Vikram\"\n",
    "]\n",
    "movies"
   ]
  },
  {
   "cell_type": "code",
   "execution_count": 4,
   "id": "6fa27846",
   "metadata": {},
   "outputs": [
    {
     "name": "stdout",
     "output_type": "stream",
     "text": [
      "['Baahubali: The Beginning', 'Baahubali 2: The Conclusion', 'IKGF: Chapter 1', 'KGF: chapter 2', 'Jai Bhim', 'Asuran', 'Vada chennai', 'KAntara', '777 Charli', 'Saaho', 'Orange', 'Bussinessman', 'Animal', 'Vikram']\n",
      "['BAAHUBALI: THE BEGINNING', 'BAAHUBALI 2: THE CONCLUSION', 'IKGF: CHAPTER 1', 'KGF: CHAPTER 2', 'JAI BHIM', 'ASURAN', 'VADA CHENNAI', 'KANTARA', '777 CHARLI', 'SAAHO', 'ORANGE', 'BUSSINESSMAN', 'ANIMAL', 'VIKRAM']\n"
     ]
    }
   ],
   "source": [
    "movies_caps = []\n",
    "for movie in movies:\n",
    "    name = movie.upper()\n",
    "    movies_caps.append(name)\n",
    "print(movies)\n",
    "print(movies_caps)    "
   ]
  },
  {
   "cell_type": "code",
   "execution_count": 8,
   "id": "2e9205f2",
   "metadata": {},
   "outputs": [
    {
     "name": "stdout",
     "output_type": "stream",
     "text": [
      "['Baahubali: The Beginning', 'Baahubali 2: The Conclusion', 'IKGF: Chapter 1', 'KGF: chapter 2', 'Jai Bhim', 'Asuran', 'Vada chennai', 'KAntara', '777 Charli', 'Saaho', 'Orange', 'Bussinessman', 'Animal', 'Vikram']\n",
      "['BAAHUBALI: THE BEGINNING', 'BAAHUBALI 2: THE CONCLUSION', 'IKGF: CHAPTER 1', 'KGF: CHAPTER 2', 'JAI BHIM', 'ASURAN', 'VADA CHENNAI', 'KANTARA', '777 CHARLI', 'SAAHO', 'ORANGE', 'BUSSINESSMAN', 'ANIMAL', 'VIKRAM']\n"
     ]
    }
   ],
   "source": [
    "movies_caps = [movie.upper() for movie in movies]\n",
    "print(movies)\n",
    "print(movies_caps)"
   ]
  },
  {
   "cell_type": "markdown",
   "id": "623c011c",
   "metadata": {},
   "source": [
    "filter the movies the contain 'O' and store in new list"
   ]
  },
  {
   "cell_type": "code",
   "execution_count": 10,
   "id": "fad70d0c",
   "metadata": {},
   "outputs": [
    {
     "name": "stdout",
     "output_type": "stream",
     "text": [
      "['Baahubali: The Beginning', 'Baahubali 2: The Conclusion', 'IKGF: Chapter 1', 'KGF: chapter 2', 'Jai Bhim', 'Asuran', 'Vada chennai', 'KAntara', '777 Charli', 'Saaho', 'Orange', 'Bussinessman', 'Animal', 'Vikram']\n",
      "['Baahubali 2: The Conclusion', 'Saaho']\n"
     ]
    }
   ],
   "source": [
    "movies_with_o = []\n",
    "for item in movies:\n",
    "    if 'o' in item or 'o' in item:\n",
    "        movies_with_o.append(item)\n",
    "print(movies)\n",
    "print(movies_with_o)        "
   ]
  },
  {
   "cell_type": "code",
   "execution_count": 11,
   "id": "acebcb05",
   "metadata": {},
   "outputs": [],
   "source": [
    "movies_with_e = [nm for nm in movies if 'o' in nm or 'o' in nm]"
   ]
  },
  {
   "cell_type": "code",
   "execution_count": null,
   "id": "dc3f1b0a",
   "metadata": {},
   "outputs": [],
   "source": []
  }
 ],
 "metadata": {
  "kernelspec": {
   "display_name": "Python 3",
   "language": "python",
   "name": "python3"
  },
  "language_info": {
   "codemirror_mode": {
    "name": "ipython",
    "version": 3
   },
   "file_extension": ".py",
   "mimetype": "text/x-python",
   "name": "python",
   "nbconvert_exporter": "python",
   "pygments_lexer": "ipython3",
   "version": "3.13.6"
  }
 },
 "nbformat": 4,
 "nbformat_minor": 5
}
