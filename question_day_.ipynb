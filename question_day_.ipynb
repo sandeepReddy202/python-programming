{
 "cells": [
  {
   "cell_type": "markdown",
   "id": "150f56a0",
   "metadata": {},
   "source": [
    "# Day 1 — Python Logic & Core Syntax Refresher\n",
    "\n",
    "This notebook contains the 35 practice problem statements (questions only). Use `solution_day_1.ipynb` for the solutions.\n",
    "\n",
    "Focus Topics: Input/output, data types, loops, conditionals, lists, tuples, dicts, sets, strings."
   ]
  },
  {
   "cell_type": "markdown",
   "id": "cd59438b",
   "metadata": {},
   "source": [
    "---\n",
    "\n",
    "## Problem 1 — Sum of N numbers\n",
    "\n",
    "Read N then N integers; print their sum.\n",
    "\n",
    "Input: N; a1 a2 ... aN\n",
    "\n",
    "Output: sum"
   ]
  },
  {
   "cell_type": "code",
   "execution_count": 25,
   "id": "2f977cbd",
   "metadata": {},
   "outputs": [
    {
     "name": "stdout",
     "output_type": "stream",
     "text": [
      "8\n"
     ]
    }
   ],
   "source": [
    "N = int(input(\"Enter number of elements: \"))\n",
    "numbers = list(map(int, input(\"Enter the numbers: \").split()))\n",
    "total = sum(numbers)\n",
    "print(total)"
   ]
  },
  {
   "cell_type": "markdown",
   "id": "1e4e75d6",
   "metadata": {},
   "source": [
    "---\n",
    "\n",
    "## Problem 2 — Average of N numbers\n",
    "\n",
    "Read N and N integers; print average (2 decimals).\n",
    "\n",
    "Input: N; a1 ... aN\n",
    "\n",
    "Output: average formatted to 2 decimal places"
   ]
  },
  {
   "cell_type": "code",
   "execution_count": 5,
   "id": "c889af49",
   "metadata": {},
   "outputs": [
    {
     "name": "stdout",
     "output_type": "stream",
     "text": [
      "0.89\n"
     ]
    }
   ],
   "source": [
    "N = int(input(\"Enter number of elements: \"))\n",
    "numbers = list(map(int, input(\"Enter the numbers: \").split()))\n",
    "average = sum(numbers) / N\n",
    "print(f\"{average:.2f}\")\n"
   ]
  },
  {
   "cell_type": "markdown",
   "id": "ea24c5ca",
   "metadata": {},
   "source": [
    "---\n",
    "\n",
    "## Problem 3 — Reverse a string\n",
    "\n",
    "Read string s; print s reversed."
   ]
  },
  {
   "cell_type": "code",
   "execution_count": 4,
   "id": "a3bc2504",
   "metadata": {},
   "outputs": [
    {
     "name": "stdout",
     "output_type": "stream",
     "text": [
      "8\n"
     ]
    }
   ],
   "source": [
    "s = input()\n",
    "print(s[::-1])"
   ]
  },
  {
   "cell_type": "markdown",
   "id": "1fd98849",
   "metadata": {},
   "source": [
    "---\n",
    "\n",
    "## Problem 4 — Count vowels and consonants\n",
    "\n",
    "Given a word; print number of vowels and consonants.\n",
    "\n",
    "Output: two ints"
   ]
  },
  {
   "cell_type": "code",
   "execution_count": 4,
   "id": "851b5f89",
   "metadata": {},
   "outputs": [
    {
     "name": "stdout",
     "output_type": "stream",
     "text": [
      "1 0\n"
     ]
    }
   ],
   "source": [
    "word = input()\n",
    "vowels = 0\n",
    "consonants = 0\n",
    "vowel_letters = \"aeiouAEIOU\"\n",
    "for ch in word:\n",
    "    if ch.isalpha():  \n",
    "        if ch in vowel_letters:\n",
    "            vowels += 1\n",
    "        else:\n",
    "            consonants += 1\n",
    "print(vowels, consonants)"
   ]
  },
  {
   "cell_type": "markdown",
   "id": "7285480c",
   "metadata": {},
   "source": [
    "---\n",
    "\n",
    "## Problem 5 — Number palindrome check\n",
    "\n",
    "Given integer n; print 'Yes' if palindrome else 'No'."
   ]
  },
  {
   "cell_type": "code",
   "execution_count": 5,
   "id": "097daa44",
   "metadata": {},
   "outputs": [
    {
     "name": "stdout",
     "output_type": "stream",
     "text": [
      "Yes\n"
     ]
    }
   ],
   "source": [
    "n = input()\n",
    "if n == n[::-1]:\n",
    "    print(\"Yes\")\n",
    "else:\n",
    "    print(\"No\")"
   ]
  },
  {
   "cell_type": "markdown",
   "id": "1d951918",
   "metadata": {},
   "source": [
    "---\n",
    "\n",
    "## Problem 6 — Left star pyramid\n",
    "\n",
    "Given N; print left-aligned pyramid of '*' for N rows."
   ]
  },
  {
   "cell_type": "code",
   "execution_count": 7,
   "id": "c2fb67eb",
   "metadata": {},
   "outputs": [
    {
     "name": "stdout",
     "output_type": "stream",
     "text": [
      "*\n",
      "**\n",
      "***\n",
      "****\n",
      "*****\n",
      "******\n",
      "*******\n",
      "********\n",
      "*********\n",
      "**********\n"
     ]
    }
   ],
   "source": [
    "n = int(input())\n",
    "for i in range(1, n + 1):\n",
    "    print(\"*\" * i)"
   ]
  },
  {
   "cell_type": "markdown",
   "id": "42313354",
   "metadata": {},
   "source": [
    "---\n",
    "\n",
    "## Problem 7 — Count digits in a number\n",
    "\n",
    "Given a non-negative integer n; print number of digits."
   ]
  },
  {
   "cell_type": "code",
   "execution_count": 8,
   "id": "d8ed942f",
   "metadata": {},
   "outputs": [
    {
     "name": "stdout",
     "output_type": "stream",
     "text": [
      "1\n"
     ]
    }
   ],
   "source": [
    "n = int(input())\n",
    "count = len(str(n))\n",
    "# Print result\n",
    "print(count)"
   ]
  },
  {
   "cell_type": "markdown",
   "id": "420a262e",
   "metadata": {},
   "source": [
    "---\n",
    "\n",
    "## Problem 8 — Factorial\n",
    "\n",
    "Input: n; Output: n! (iterative)."
   ]
  },
  {
   "cell_type": "code",
   "execution_count": 9,
   "id": "4bf03f95",
   "metadata": {},
   "outputs": [
    {
     "name": "stdout",
     "output_type": "stream",
     "text": [
      "120\n"
     ]
    }
   ],
   "source": [
    "n = int(input())\n",
    "fact = 1\n",
    "for i in range(1, n + 1):\n",
    "    fact *= i\n",
    "print(fact)\n"
   ]
  },
  {
   "cell_type": "markdown",
   "id": "8a217141",
   "metadata": {},
   "source": [
    "---\n",
    "\n",
    "## Problem 9 — Fibonacci\n",
    "\n",
    "Input: n; Output: nth Fibonacci number (0-based, iterative)."
   ]
  },
  {
   "cell_type": "code",
   "execution_count": 11,
   "id": "44423e5c",
   "metadata": {},
   "outputs": [
    {
     "name": "stdout",
     "output_type": "stream",
     "text": [
      "13\n"
     ]
    }
   ],
   "source": [
    "n = int(input())\n",
    "if n == 0:\n",
    "    print(0)\n",
    "elif n == 1:\n",
    "    print(1)\n",
    "else:\n",
    "    a, b = 0, 1\n",
    "    for _ in range(2, n + 1):\n",
    "        a, b = b, a + b\n",
    "    print(b)"
   ]
  },
  {
   "cell_type": "markdown",
   "id": "c7765eb9",
   "metadata": {},
   "source": [
    "---\n",
    "\n",
    "## Problem 10 — Prime check\n",
    "\n",
    "Input: n; Output: 'Prime' or 'Not Prime'."
   ]
  },
  {
   "cell_type": "code",
   "execution_count": 13,
   "id": "5087cbc6",
   "metadata": {},
   "outputs": [],
   "source": [
    "n = int(input())\n",
    "if n < 2:\n",
    "    print(\"Not Prime\")\n",
    "else:\n",
    "    is_prime = True\n",
    "    for i in range(2, int(n**0.5) + 1):\n",
    "        if n % i == 0:\n",
    "            is_prime = False\n",
    "            break"
   ]
  },
  {
   "cell_type": "markdown",
   "id": "0c1cc9d3",
   "metadata": {},
   "source": [
    "---\n",
    "\n",
    "## Problem 15 — Rotate list\n",
    "\n",
    "Given list and k; rotate right by k positions."
   ]
  },
  {
   "cell_type": "code",
   "execution_count": 14,
   "id": "4b935529",
   "metadata": {},
   "outputs": [
    {
     "name": "stdout",
     "output_type": "stream",
     "text": [
      "[8]\n"
     ]
    }
   ],
   "source": [
    "arr = list(map(int, input().split()))\n",
    "k = int(input())\n",
    "if len(arr) == 0:\n",
    "    print([])\n",
    "else:\n",
    "    k = k % len(arr) \n",
    "    rotated = arr[-k:] + arr[:-k]\n",
    "    print(rotated)\n"
   ]
  },
  {
   "cell_type": "markdown",
   "id": "09790d41",
   "metadata": {},
   "source": [
    "---\n",
    "\n",
    "## Problem 20 — Word frequency\n",
    "\n",
    "Given a sentence; print word->count."
   ]
  },
  {
   "cell_type": "code",
   "execution_count": 15,
   "id": "af5c123c",
   "metadata": {},
   "outputs": [
    {
     "name": "stdout",
     "output_type": "stream",
     "text": [
      "9->1\n"
     ]
    }
   ],
   "source": [
    "sentence = input()\n",
    "words = sentence.split()\n",
    "freq = {}\n",
    "for w in words:\n",
    "    freq[w] = freq.get(w, 0) + 1\n",
    "for w, c in freq.items():\n",
    "    print(f\"{w}->{c}\")"
   ]
  },
  {
   "cell_type": "markdown",
   "id": "132880b7",
   "metadata": {},
   "source": [
    "---\n",
    "\n",
    "## Problem 25 — GCD\n",
    "\n",
    "Given a and b; print gcd."
   ]
  },
  {
   "cell_type": "code",
   "execution_count": 4,
   "id": "ab904035",
   "metadata": {},
   "outputs": [
    {
     "name": "stdout",
     "output_type": "stream",
     "text": [
      "1\n"
     ]
    }
   ],
   "source": [
    "a, b = map(int, input().split())\n",
    "while b != 0:\n",
    "    a, b = b, a % b\n",
    "print(a)"
   ]
  },
  {
   "cell_type": "markdown",
   "id": "29504f3a",
   "metadata": {},
   "source": [
    "---\n",
    "\n",
    "## Problem 30 — Valid parentheses\n",
    "\n",
    "Given parentheses string; check validity."
   ]
  },
  {
   "cell_type": "code",
   "execution_count": 5,
   "id": "343fee7b",
   "metadata": {},
   "outputs": [],
   "source": [
    "s = input()\n",
    "stack = []\n",
    "brackets = {')': '(', '}': '{', ']': '['}\n",
    "is_valid = True\n",
    "\n",
    "for ch in s:\n",
    "    if ch in '({[':\n",
    "        stack.append(ch)\n",
    "    elif ch in ')}]':\n",
    "        if stack and stack[-1] == brackets[ch]:\n",
    "            stack.pop()\n",
    "        else:\n",
    "            is_valid = False\n",
    "            break"
   ]
  },
  {
   "cell_type": "markdown",
   "id": "59bbb2a7",
   "metadata": {},
   "source": [
    "---\n",
    "\n",
    "## Problem 35 — Power function\n",
    "\n",
    "Given a and b; compute a^b efficiently."
   ]
  },
  {
   "cell_type": "code",
   "execution_count": 8,
   "id": "cfb5bd88",
   "metadata": {},
   "outputs": [
    {
     "name": "stdout",
     "output_type": "stream",
     "text": [
      "78125\n"
     ]
    }
   ],
   "source": [
    "a, b = map(int, input().split())\n",
    "result = 1\n",
    "base = a\n",
    "exp = b\n",
    "while exp > 0:\n",
    "    if exp % 2 == 1:\n",
    "        result *= base\n",
    "    base *= base\n",
    "    exp //= 2\n",
    "print(result)"
   ]
  },
  {
   "cell_type": "markdown",
   "id": "602ff2d2",
   "metadata": {},
   "source": [
    "---\n",
    "\n",
    "## Problem 34 — Find missing\n",
    "\n",
    "Given list of 1..N with one missing; find it."
   ]
  },
  {
   "cell_type": "code",
   "execution_count": 9,
   "id": "0628f032",
   "metadata": {},
   "outputs": [
    {
     "name": "stdout",
     "output_type": "stream",
     "text": [
      "-5\n"
     ]
    }
   ],
   "source": [
    "arr = list(map(int, input().split()))\n",
    "n = len(arr) + 1  \n",
    "total = n * (n + 1) // 2\n",
    "actual = sum(arr)\n",
    "missing = total - actual\n",
    "print(missing)"
   ]
  },
  {
   "cell_type": "markdown",
   "id": "5cd931e2",
   "metadata": {},
   "source": [
    "---\n",
    "\n",
    "## Problem 33 — Bubble sort\n",
    "\n",
    "Given list; return bubble-sorted list."
   ]
  },
  {
   "cell_type": "code",
   "execution_count": 10,
   "id": "3a866937",
   "metadata": {},
   "outputs": [
    {
     "name": "stdout",
     "output_type": "stream",
     "text": [
      "[8]\n"
     ]
    }
   ],
   "source": [
    "arr = list(map(int, input().split()))\n",
    "n = len(arr)\n",
    "for i in range(n):\n",
    "    for j in range(0, n - i - 1):\n",
    "        if arr[j] > arr[j + 1]:\n",
    "            arr[j], arr[j + 1] = arr[j + 1], arr[j]\n",
    "print(arr)"
   ]
  },
  {
   "cell_type": "markdown",
   "id": "d94c78e5",
   "metadata": {},
   "source": [
    "---\n",
    "\n",
    "## Problem 32 — Transpose matrix\n",
    "\n",
    "Given matrix; return transpose."
   ]
  },
  {
   "cell_type": "code",
   "execution_count": 3,
   "id": "9816e536",
   "metadata": {},
   "outputs": [
    {
     "name": "stdout",
     "output_type": "stream",
     "text": [
      "[[1, 4], [2, 5], [3, 6]]\n"
     ]
    }
   ],
   "source": [
    "def transpose_matrix(matrix):\n",
    "    rows = len(matrix)\n",
    "    cols = len(matrix[0])\n",
    "    transpose = []\n",
    "    for j in range(cols):\n",
    "        new_row = []\n",
    "        for i in range(rows):\n",
    "            new_row.append(matrix[i][j])\n",
    "        transpose.append(new_row)\n",
    "    return transpose\n",
    "matrix = [\n",
    "    [1, 2, 3],\n",
    "    [4, 5, 6]\n",
    "]\n",
    "result = transpose_matrix(matrix)\n",
    "print(result)\n"
   ]
  },
  {
   "cell_type": "markdown",
   "id": "94113eb4",
   "metadata": {},
   "source": [
    "---\n",
    "\n",
    "## Problem 31 — Second largest\n",
    "\n",
    "Given list; print second largest unique."
   ]
  },
  {
   "cell_type": "code",
   "execution_count": 5,
   "id": "d966a4b3",
   "metadata": {},
   "outputs": [
    {
     "name": "stdout",
     "output_type": "stream",
     "text": [
      "5\n"
     ]
    }
   ],
   "source": [
    "def second_largest_unique(numbers):\n",
    "    unique_numbers = list(set(numbers))\n",
    "    if len(unique_numbers) < 2:\n",
    "        return None\n",
    "    unique_numbers.sort(reverse=True)\n",
    "    return unique_numbers[1]\n",
    "numbers = [5, 3, 9, 1, 9, 5]\n",
    "print(second_largest_unique(numbers))  # Output: 5\n"
   ]
  },
  {
   "cell_type": "markdown",
   "id": "6c659860",
   "metadata": {},
   "source": [
    "---\n",
    "\n",
    "## Problem 29 — Anagram\n",
    "\n",
    "Given two strings; check anagram."
   ]
  },
  {
   "cell_type": "code",
   "execution_count": 6,
   "id": "d3bb0e63",
   "metadata": {},
   "outputs": [
    {
     "name": "stdout",
     "output_type": "stream",
     "text": [
      "True\n"
     ]
    }
   ],
   "source": [
    "def are_anagrams(s1, s2):\n",
    "    s1 = s1.replace(\" \", \"\").lower()\n",
    "    s2 = s2.replace(\" \", \"\").lower()\n",
    "    return sorted(s1) == sorted(s2)\n",
    "str1 = \"listen\"\n",
    "str2 = \"silent\"\n",
    "print(are_anagrams(str1, str2))  "
   ]
  },
  {
   "cell_type": "markdown",
   "id": "b51e54ca",
   "metadata": {},
   "source": [
    "---\n",
    "\n",
    "## Problem 28 — Decimal to binary\n",
    "\n",
    "Given integer; print binary string."
   ]
  },
  {
   "cell_type": "code",
   "execution_count": 7,
   "id": "98c56e82",
   "metadata": {},
   "outputs": [
    {
     "name": "stdout",
     "output_type": "stream",
     "text": [
      "1101\n"
     ]
    }
   ],
   "source": [
    "def decimal_to_binary(n):\n",
    "    if n == 0:\n",
    "        return \"0\"\n",
    "    binary = \"\"\n",
    "    while n > 0:\n",
    "        binary = str(n % 2) + binary \n",
    "        n = n // 2\n",
    "    return binary\n",
    "num = 13\n",
    "print(decimal_to_binary(num)) "
   ]
  },
  {
   "cell_type": "markdown",
   "id": "01e9daaf",
   "metadata": {},
   "source": [
    "---\n",
    "\n",
    "## Problem 27 — Binary to decimal\n",
    "\n",
    "Given binary string; print decimal."
   ]
  },
  {
   "cell_type": "code",
   "execution_count": 8,
   "id": "a4c430ef",
   "metadata": {},
   "outputs": [
    {
     "name": "stdout",
     "output_type": "stream",
     "text": [
      "13\n"
     ]
    }
   ],
   "source": [
    "def binary_to_decimal(binary_str):\n",
    "    decimal = 0\n",
    "    power = 0\n",
    "    for digit in reversed(binary_str):\n",
    "        decimal += int(digit) * (2 ** power)\n",
    "        power += 1\n",
    "    return decimal\n",
    "binary = \"1101\"\n",
    "print(binary_to_decimal(binary))  \n"
   ]
  },
  {
   "cell_type": "markdown",
   "id": "2f314e3c",
   "metadata": {},
   "source": [
    "---\n",
    "\n",
    "## Problem 26 — LCM\n",
    "\n",
    "Given a and b; print lcm."
   ]
  },
  {
   "cell_type": "code",
   "execution_count": 9,
   "id": "7e964881",
   "metadata": {},
   "outputs": [
    {
     "name": "stdout",
     "output_type": "stream",
     "text": [
      "36\n"
     ]
    }
   ],
   "source": [
    "import math\n",
    "\n",
    "def lcm(a, b):\n",
    "    return abs(a * b) // math.gcd(a, b)\n",
    "\n",
    "# Example\n",
    "a = 12\n",
    "b = 18\n",
    "print(lcm(a, b))  # Output: 36\n"
   ]
  },
  {
   "cell_type": "markdown",
   "id": "04a2f34e",
   "metadata": {},
   "source": [
    "---\n",
    "\n",
    "## Problem 24 — Armstrong check\n",
    "\n",
    "Given 3-digit n; check Armstrong."
   ]
  },
  {
   "cell_type": "code",
   "execution_count": 10,
   "id": "38c6d132",
   "metadata": {},
   "outputs": [
    {
     "name": "stdout",
     "output_type": "stream",
     "text": [
      "True\n",
      "False\n"
     ]
    }
   ],
   "source": [
    "def is_armstrong(n):\n",
    "    digits = str(n)\n",
    "    total = sum(int(digit) ** 3 for digit in digits)\n",
    "    return total == n\n",
    "n = 153\n",
    "print(is_armstrong(n))  \n",
    "n = 123\n",
    "print(is_armstrong(n))  \n"
   ]
  },
  {
   "cell_type": "markdown",
   "id": "9da86896",
   "metadata": {},
   "source": [
    "---\n",
    "\n",
    "## Problem 23 — Swap variables\n",
    "\n",
    "Given a and b; swap without temp."
   ]
  },
  {
   "cell_type": "code",
   "execution_count": 24,
   "id": "a67bf64b",
   "metadata": {},
   "outputs": [
    {
     "name": "stdout",
     "output_type": "stream",
     "text": [
      "10 5\n"
     ]
    }
   ],
   "source": [
    "a = 5\n",
    "b = 10\n",
    "\n",
    "a = a + b  # a becomes 15\n",
    "b = a - b  # b becomes 5\n",
    "a = a - b  # a becomes 10\n",
    "\n",
    "print(a, b)  # Output: 10 5\n"
   ]
  },
  {
   "cell_type": "code",
   "execution_count": 23,
   "id": "43981c1f",
   "metadata": {},
   "outputs": [
    {
     "name": "stdout",
     "output_type": "stream",
     "text": [
      "10 5\n"
     ]
    }
   ],
   "source": [
    "a = 5\n",
    "b = 10\n",
    "\n",
    "a = a ^ b\n",
    "b = a ^ b\n",
    "a = a ^ b\n",
    "\n",
    "print(a, b)  # Output: 10 5\n"
   ]
  },
  {
   "cell_type": "markdown",
   "id": "2d3b7e62",
   "metadata": {},
   "source": [
    "---\n",
    "\n",
    "## Problem 22 — Title case\n",
    "\n",
    "Given a sentence; return it title-cased."
   ]
  },
  {
   "cell_type": "code",
   "execution_count": 22,
   "id": "fbbace15",
   "metadata": {},
   "outputs": [
    {
     "name": "stdout",
     "output_type": "stream",
     "text": [
      "Hello World From Python\n"
     ]
    }
   ],
   "source": [
    "def title_case(sentence):\n",
    "    return sentence.title()\n",
    "\n",
    "# Example\n",
    "sentence = \"hello world from python\"\n",
    "print(title_case(sentence))  # Output: \"Hello World From Python\"\n"
   ]
  },
  {
   "cell_type": "markdown",
   "id": "3d44303b",
   "metadata": {},
   "source": [
    "---\n",
    "\n",
    "## Problem 21 — Substring count\n",
    "\n",
    "Given text and pattern; count occurrences. (overlap ok)"
   ]
  },
  {
   "cell_type": "code",
   "execution_count": 21,
   "id": "f1dcf833",
   "metadata": {},
   "outputs": [
    {
     "name": "stdout",
     "output_type": "stream",
     "text": [
      "3\n"
     ]
    }
   ],
   "source": [
    "def count_substring(text, pattern):\n",
    "    count = 0\n",
    "    i = 0\n",
    "    while i <= len(text) - len(pattern):\n",
    "        if text[i:i+len(pattern)] == pattern:\n",
    "            count += 1\n",
    "        i += 1  # Move one step to allow overlap\n",
    "    return count\n",
    "\n",
    "# Example\n",
    "text = \"abababa\"\n",
    "pattern = \"aba\"\n",
    "print(count_substring(text, pattern))  # Output: 3\n"
   ]
  },
  {
   "cell_type": "markdown",
   "id": "aef92df6",
   "metadata": {},
   "source": [
    "---\n",
    "\n",
    "## Problem 19 — Swap pair\n",
    "\n",
    "Given a pair; swap using tuple unpacking."
   ]
  },
  {
   "cell_type": "code",
   "execution_count": 20,
   "id": "73bae7b6",
   "metadata": {},
   "outputs": [
    {
     "name": "stdout",
     "output_type": "stream",
     "text": [
      "10 5\n"
     ]
    }
   ],
   "source": [
    "# Given pair\n",
    "a = 5\n",
    "b = 10\n",
    "\n",
    "# Swap using tuple unpacking\n",
    "a, b = b, a\n",
    "\n",
    "print(a, b)  # Output: 10 5\n"
   ]
  },
  {
   "cell_type": "markdown",
   "id": "557e8a21",
   "metadata": {},
   "source": [
    "---\n",
    "\n",
    "## Problem 18 — Union\n",
    "\n",
    "Given two lists; return union (unique)."
   ]
  },
  {
   "cell_type": "code",
   "execution_count": 19,
   "id": "136ccde7",
   "metadata": {},
   "outputs": [
    {
     "name": "stdout",
     "output_type": "stream",
     "text": [
      "[1, 2, 3, 4, 5, 6]\n"
     ]
    }
   ],
   "source": [
    "def union_lists(list1, list2):\n",
    "    return list(set(list1) | set(list2))  # Union of sets\n",
    "\n",
    "# Example\n",
    "list1 = [1, 2, 3, 4]\n",
    "list2 = [3, 4, 5, 6]\n",
    "\n",
    "print(union_lists(list1, list2))  # Output: [1, 2, 3, 4, 5, 6] (order may vary)\n"
   ]
  },
  {
   "cell_type": "code",
   "execution_count": 18,
   "id": "3f3f1bde",
   "metadata": {},
   "outputs": [
    {
     "name": "stdout",
     "output_type": "stream",
     "text": [
      "[3, 4]\n"
     ]
    }
   ],
   "source": [
    "def intersection_lists(list1, list2):\n",
    "    return list(set(list1) & set(list2))  # Intersection of sets\n",
    "\n",
    "# Example\n",
    "list1 = [1, 2, 3, 4]\n",
    "list2 = [3, 4, 5, 6]\n",
    "\n",
    "print(intersection_lists(list1, list2))  # Output: [3, 4] (order may vary)\n"
   ]
  },
  {
   "cell_type": "markdown",
   "id": "e86fc979",
   "metadata": {},
   "source": [
    "---\n",
    "\n",
    "## Problem 17 — Intersection\n",
    "\n",
    "Given two lists; return intersection (unique)."
   ]
  },
  {
   "cell_type": "code",
   "execution_count": null,
   "id": "d8ca62fa",
   "metadata": {},
   "outputs": [],
   "source": []
  },
  {
   "cell_type": "markdown",
   "id": "9638065a",
   "metadata": {},
   "source": [
    "---\n",
    "\n",
    "## Problem 16 — Merge sorted lists\n",
    "\n",
    "Given two sorted lists; return merged."
   ]
  },
  {
   "cell_type": "code",
   "execution_count": 17,
   "id": "fcd29b1f",
   "metadata": {},
   "outputs": [
    {
     "name": "stdout",
     "output_type": "stream",
     "text": [
      "[1, 2, 3, 4, 5, 6]\n"
     ]
    }
   ],
   "source": [
    "def merge_sorted(list1, list2):\n",
    "    i = j = 0\n",
    "    merged = []\n",
    "\n",
    "    while i < len(list1) and j < len(list2):\n",
    "        if list1[i] < list2[j]:\n",
    "            merged.append(list1[i])\n",
    "            i += 1\n",
    "        else:\n",
    "            merged.append(list2[j])\n",
    "            j += 1\n",
    "\n",
    "    # Append remaining elements\n",
    "    merged.extend(list1[i:])\n",
    "    merged.extend(list2[j:])\n",
    "\n",
    "    return merged\n",
    "\n",
    "# Example\n",
    "list1 = [1, 3, 5]\n",
    "list2 = [2, 4, 6]\n",
    "\n",
    "print(merge_sorted(list1, list2))  # Output: [1, 2, 3, 4, 5, 6]\n"
   ]
  },
  {
   "cell_type": "markdown",
   "id": "a44f7e63",
   "metadata": {},
   "source": [
    "---\n",
    "\n",
    "## Problem 14 — Sort list\n",
    "\n",
    "Given a list; return it sorted ascending."
   ]
  },
  {
   "cell_type": "code",
   "execution_count": 16,
   "id": "a6b9a8f9",
   "metadata": {},
   "outputs": [
    {
     "name": "stdout",
     "output_type": "stream",
     "text": [
      "[1, 2, 5, 7, 9]\n"
     ]
    }
   ],
   "source": [
    "def sort_list(lst):\n",
    "    lst.sort()\n",
    "    return lst\n",
    "\n",
    "# Example\n",
    "lst = [5, 2, 9, 1, 7]\n",
    "print(sort_list(lst))  # Output: [1, 2, 5, 7, 9]\n"
   ]
  },
  {
   "cell_type": "markdown",
   "id": "81b9d18b",
   "metadata": {},
   "source": [
    "---\n",
    "\n",
    "## Problem 13 — Max and Min\n",
    "\n",
    "Given a list; print max and min."
   ]
  },
  {
   "cell_type": "code",
   "execution_count": 15,
   "id": "5a1ce679",
   "metadata": {},
   "outputs": [
    {
     "name": "stdout",
     "output_type": "stream",
     "text": [
      "Max: 9\n",
      "Min: 1\n"
     ]
    }
   ],
   "source": [
    "def max_and_min(lst):\n",
    "    return max(lst), min(lst)\n",
    "\n",
    "# Example\n",
    "lst = [5, 2, 9, 1, 7]\n",
    "maximum, minimum = max_and_min(lst)\n",
    "print(\"Max:\", maximum)  # Output: Max: 9\n",
    "print(\"Min:\", minimum)  # Output: Min: 1\n"
   ]
  },
  {
   "cell_type": "markdown",
   "id": "baf379aa",
   "metadata": {},
   "source": [
    "---\n",
    "\n",
    "## Problem 12 — Remove duplicates\n",
    "\n",
    "Given a list; print unique elements (order unspecified, using set)."
   ]
  },
  {
   "cell_type": "code",
   "execution_count": 14,
   "id": "f3c6ea1d",
   "metadata": {},
   "outputs": [
    {
     "name": "stdout",
     "output_type": "stream",
     "text": [
      "Max: 9\n",
      "Min: 1\n"
     ]
    }
   ],
   "source": [
    "def max_and_min(lst):\n",
    "    maximum = lst[0]\n",
    "    minimum = lst[0]\n",
    "\n",
    "    for num in lst[1:]:\n",
    "        if num > maximum:\n",
    "            maximum = num\n",
    "        if num < minimum:\n",
    "            minimum = num\n",
    "\n",
    "    return maximum, minimum\n",
    "\n",
    "# Example\n",
    "lst = [5, 2, 9, 1, 7]\n",
    "maximum, minimum = max_and_min(lst)\n",
    "print(\"Max:\", maximum)  # Output: Max: 9\n",
    "print(\"Min:\", minimum)  # Output: Min: 1\n"
   ]
  },
  {
   "cell_type": "code",
   "execution_count": 13,
   "id": "5149edc2",
   "metadata": {},
   "outputs": [
    {
     "name": "stdout",
     "output_type": "stream",
     "text": [
      "[1, 2, 3, 4, 5]\n"
     ]
    }
   ],
   "source": [
    "def unique_elements(lst):\n",
    "    return list(set(lst))\n",
    "\n",
    "# Example\n",
    "lst = [1, 2, 2, 3, 4, 4, 5]\n",
    "print(unique_elements(lst))  # Output: [1, 2, 3, 4, 5] (order may vary)\n"
   ]
  },
  {
   "cell_type": "markdown",
   "id": "69c01fb5",
   "metadata": {},
   "source": [
    "---\n",
    "\n",
    "## Problem 11 — Unique list elements\n",
    "\n",
    "Given a list; return unique elements in original order."
   ]
  },
  {
   "cell_type": "code",
   "execution_count": 11,
   "id": "be76107d",
   "metadata": {},
   "outputs": [
    {
     "name": "stdout",
     "output_type": "stream",
     "text": [
      "[1, 2, 3, 4, 5]\n"
     ]
    }
   ],
   "source": [
    "def unique_ordered(lst):\n",
    "    seen = set()\n",
    "    unique_lst = []\n",
    "    for item in lst:\n",
    "        if item not in seen:\n",
    "            seen.add(item)\n",
    "            unique_lst.append(item)\n",
    "    return unique_lst\n",
    "\n",
    "# Example\n",
    "lst = [1, 2, 2, 3, 4, 4, 5]\n",
    "print(unique_ordered(lst))  # Output: [1, 2, 3, 4, 5]\n"
   ]
  },
  {
   "cell_type": "markdown",
   "id": "637b0574",
   "metadata": {},
   "source": [
    "---\n",
    "\n",
    "Built by Zaid Kamil with 💖 at MBU  \n",
    "[Connect me on LinkedIn](https://www.linkedin.com/in/zaidbinkamil/)"
   ]
  }
 ],
 "metadata": {
  "kernelspec": {
   "display_name": "Python 3",
   "language": "python",
   "name": "python3"
  },
  "language_info": {
   "codemirror_mode": {
    "name": "ipython",
    "version": 3
   },
   "file_extension": ".py",
   "mimetype": "text/x-python",
   "name": "python",
   "nbconvert_exporter": "python",
   "pygments_lexer": "ipython3",
   "version": "3.13.6"
  }
 },
 "nbformat": 4,
 "nbformat_minor": 5
}
