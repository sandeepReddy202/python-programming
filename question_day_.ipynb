{
 "cells": [
  {
   "cell_type": "markdown",
   "id": "150f56a0",
   "metadata": {},
   "source": [
    "# Day 1 — Python Logic & Core Syntax Refresher\n",
    "\n",
    "This notebook contains the 35 practice problem statements (questions only). Use `solution_day_1.ipynb` for the solutions.\n",
    "\n",
    "Focus Topics: Input/output, data types, loops, conditionals, lists, tuples, dicts, sets, strings."
   ]
  },
  {
   "cell_type": "markdown",
   "id": "cd59438b",
   "metadata": {},
   "source": [
    "---\n",
    "\n",
    "## Problem 1 — Sum of N numbers\n",
    "\n",
    "Read N then N integers; print their sum.\n",
    "\n",
    "Input: N; a1 a2 ... aN\n",
    "\n",
    "Output: sum"
   ]
  },
  {
   "cell_type": "markdown",
   "id": "1e4e75d6",
   "metadata": {},
   "source": [
    "---\n",
    "\n",
    "## Problem 2 — Average of N numbers\n",
    "\n",
    "Read N and N integers; print average (2 decimals).\n",
    "\n",
    "Input: N; a1 ... aN\n",
    "\n",
    "Output: average formatted to 2 decimal places"
   ]
  },
  {
   "cell_type": "markdown",
   "id": "ea24c5ca",
   "metadata": {},
   "source": [
    "---\n",
    "\n",
    "## Problem 3 — Reverse a string\n",
    "\n",
    "Read string s; print s reversed."
   ]
  },
  {
   "cell_type": "markdown",
   "id": "1fd98849",
   "metadata": {},
   "source": [
    "---\n",
    "\n",
    "## Problem 4 — Count vowels and consonants\n",
    "\n",
    "Given a word; print number of vowels and consonants.\n",
    "\n",
    "Output: two ints"
   ]
  },
  {
   "cell_type": "markdown",
   "id": "7285480c",
   "metadata": {},
   "source": [
    "---\n",
    "\n",
    "## Problem 5 — Number palindrome check\n",
    "\n",
    "Given integer n; print 'Yes' if palindrome else 'No'."
   ]
  },
  {
   "cell_type": "markdown",
   "id": "1d951918",
   "metadata": {},
   "source": [
    "---\n",
    "\n",
    "## Problem 6 — Left star pyramid\n",
    "\n",
    "Given N; print left-aligned pyramid of '*' for N rows."
   ]
  },
  {
   "cell_type": "markdown",
   "id": "42313354",
   "metadata": {},
   "source": [
    "---\n",
    "\n",
    "## Problem 7 — Count digits in a number\n",
    "\n",
    "Given a non-negative integer n; print number of digits."
   ]
  },
  {
   "cell_type": "markdown",
   "id": "420a262e",
   "metadata": {},
   "source": [
    "---\n",
    "\n",
    "## Problem 8 — Factorial\n",
    "\n",
    "Input: n; Output: n! (iterative)."
   ]
  },
  {
   "cell_type": "markdown",
   "id": "8a217141",
   "metadata": {},
   "source": [
    "---\n",
    "\n",
    "## Problem 9 — Fibonacci\n",
    "\n",
    "Input: n; Output: nth Fibonacci number (0-based, iterative)."
   ]
  },
  {
   "cell_type": "markdown",
   "id": "c7765eb9",
   "metadata": {},
   "source": [
    "---\n",
    "\n",
    "## Problem 10 — Prime check\n",
    "\n",
    "Input: n; Output: 'Prime' or 'Not Prime'."
   ]
  },
  {
   "cell_type": "markdown",
   "id": "0c1cc9d3",
   "metadata": {},
   "source": [
    "---\n",
    "\n",
    "## Problem 15 — Rotate list\n",
    "\n",
    "Given list and k; rotate right by k positions."
   ]
  },
  {
   "cell_type": "markdown",
   "id": "09790d41",
   "metadata": {},
   "source": [
    "---\n",
    "\n",
    "## Problem 20 — Word frequency\n",
    "\n",
    "Given a sentence; print word->count."
   ]
  },
  {
   "cell_type": "markdown",
   "id": "132880b7",
   "metadata": {},
   "source": [
    "---\n",
    "\n",
    "## Problem 25 — GCD\n",
    "\n",
    "Given a and b; print gcd."
   ]
  },
  {
   "cell_type": "markdown",
   "id": "29504f3a",
   "metadata": {},
   "source": [
    "---\n",
    "\n",
    "## Problem 30 — Valid parentheses\n",
    "\n",
    "Given parentheses string; check validity."
   ]
  },
  {
   "cell_type": "markdown",
   "id": "59bbb2a7",
   "metadata": {},
   "source": [
    "---\n",
    "\n",
    "## Problem 35 — Power function\n",
    "\n",
    "Given a and b; compute a^b efficiently."
   ]
  },
  {
   "cell_type": "markdown",
   "id": "602ff2d2",
   "metadata": {},
   "source": [
    "---\n",
    "\n",
    "## Problem 34 — Find missing\n",
    "\n",
    "Given list of 1..N with one missing; find it."
   ]
  },
  {
   "cell_type": "markdown",
   "id": "5cd931e2",
   "metadata": {},
   "source": [
    "---\n",
    "\n",
    "## Problem 33 — Bubble sort\n",
    "\n",
    "Given list; return bubble-sorted list."
   ]
  },
  {
   "cell_type": "markdown",
   "id": "ebc5136e",
   "metadata": {},
   "source": [
    "---\n",
    "\n",
    "## Problem 32 — Transpose matrix\n",
    "\n",
    "Given matrix; return transpose."
   ]
  },
  {
   "cell_type": "markdown",
   "id": "94113eb4",
   "metadata": {},
   "source": [
    "---\n",
    "\n",
    "## Problem 31 — Second largest\n",
    "\n",
    "Given list; print second largest unique."
   ]
  },
  {
   "cell_type": "markdown",
   "id": "6c659860",
   "metadata": {},
   "source": [
    "---\n",
    "\n",
    "## Problem 29 — Anagram\n",
    "\n",
    "Given two strings; check anagram."
   ]
  },
  {
   "cell_type": "markdown",
   "id": "b51e54ca",
   "metadata": {},
   "source": [
    "---\n",
    "\n",
    "## Problem 28 — Decimal to binary\n",
    "\n",
    "Given integer; print binary string."
   ]
  },
  {
   "cell_type": "markdown",
   "id": "01e9daaf",
   "metadata": {},
   "source": [
    "---\n",
    "\n",
    "## Problem 27 — Binary to decimal\n",
    "\n",
    "Given binary string; print decimal."
   ]
  },
  {
   "cell_type": "markdown",
   "id": "2f314e3c",
   "metadata": {},
   "source": [
    "---\n",
    "\n",
    "## Problem 26 — LCM\n",
    "\n",
    "Given a and b; print lcm."
   ]
  },
  {
   "cell_type": "markdown",
   "id": "04a2f34e",
   "metadata": {},
   "source": [
    "---\n",
    "\n",
    "## Problem 24 — Armstrong check\n",
    "\n",
    "Given 3-digit n; check Armstrong."
   ]
  },
  {
   "cell_type": "markdown",
   "id": "9da86896",
   "metadata": {},
   "source": [
    "---\n",
    "\n",
    "## Problem 23 — Swap variables\n",
    "\n",
    "Given a and b; swap without temp."
   ]
  },
  {
   "cell_type": "markdown",
   "id": "2d3b7e62",
   "metadata": {},
   "source": [
    "---\n",
    "\n",
    "## Problem 22 — Title case\n",
    "\n",
    "Given a sentence; return it title-cased."
   ]
  },
  {
   "cell_type": "markdown",
   "id": "3d44303b",
   "metadata": {},
   "source": [
    "---\n",
    "\n",
    "## Problem 21 — Substring count\n",
    "\n",
    "Given text and pattern; count occurrences. (overlap ok)"
   ]
  },
  {
   "cell_type": "markdown",
   "id": "aef92df6",
   "metadata": {},
   "source": [
    "---\n",
    "\n",
    "## Problem 19 — Swap pair\n",
    "\n",
    "Given a pair; swap using tuple unpacking."
   ]
  },
  {
   "cell_type": "markdown",
   "id": "557e8a21",
   "metadata": {},
   "source": [
    "---\n",
    "\n",
    "## Problem 18 — Union\n",
    "\n",
    "Given two lists; return union (unique)."
   ]
  },
  {
   "cell_type": "markdown",
   "id": "e86fc979",
   "metadata": {},
   "source": [
    "---\n",
    "\n",
    "## Problem 17 — Intersection\n",
    "\n",
    "Given two lists; return intersection (unique)."
   ]
  },
  {
   "cell_type": "markdown",
   "id": "9638065a",
   "metadata": {},
   "source": [
    "---\n",
    "\n",
    "## Problem 16 — Merge sorted lists\n",
    "\n",
    "Given two sorted lists; return merged."
   ]
  },
  {
   "cell_type": "markdown",
   "id": "a44f7e63",
   "metadata": {},
   "source": [
    "---\n",
    "\n",
    "## Problem 14 — Sort list\n",
    "\n",
    "Given a list; return it sorted ascending."
   ]
  },
  {
   "cell_type": "markdown",
   "id": "81b9d18b",
   "metadata": {},
   "source": [
    "---\n",
    "\n",
    "## Problem 13 — Max and Min\n",
    "\n",
    "Given a list; print max and min."
   ]
  },
  {
   "cell_type": "markdown",
   "id": "baf379aa",
   "metadata": {},
   "source": [
    "---\n",
    "\n",
    "## Problem 12 — Remove duplicates\n",
    "\n",
    "Given a list; print unique elements (order unspecified, using set)."
   ]
  },
  {
   "cell_type": "markdown",
   "id": "69c01fb5",
   "metadata": {},
   "source": [
    "---\n",
    "\n",
    "## Problem 11 — Unique list elements\n",
    "\n",
    "Given a list; return unique elements in original order."
   ]
  },
  {
   "cell_type": "markdown",
   "id": "637b0574",
   "metadata": {},
   "source": [
    "---\n",
    "\n",
    "Built by Zaid Kamil with 💖 at MBU  \n",
    "[Connect me on LinkedIn](https://www.linkedin.com/in/zaidbinkamil/)"
   ]
  }
 ],
 "metadata": {
  "language_info": {
   "name": "python"
  }
 },
 "nbformat": 4,
 "nbformat_minor": 5
}
