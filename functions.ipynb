{
 "cells": [
  {
   "cell_type": "code",
   "execution_count": 7,
   "id": "46213a84",
   "metadata": {},
   "outputs": [],
   "source": [
    "import helper"
   ]
  },
  {
   "cell_type": "code",
   "execution_count": 8,
   "id": "edb08610",
   "metadata": {},
   "outputs": [
    {
     "data": {
      "text/plain": [
       "314.2857142857143"
      ]
     },
     "execution_count": 8,
     "metadata": {},
     "output_type": "execute_result"
    }
   ],
   "source": [
    "helper.calcAreaOfCircle(10)"
   ]
  },
  {
   "cell_type": "code",
   "execution_count": 13,
   "id": "2719e5dc",
   "metadata": {},
   "outputs": [
    {
     "name": "stdout",
     "output_type": "stream",
     "text": [
      "314.2857142857143 314.2857142857143 314.2857142857143\n"
     ]
    }
   ],
   "source": [
    "a= helper.calcAreaOfCircle(10)\n",
    "b = helper.calcAreaOfCircle(diameter=20)\n",
    "c = helper.calcAreaOfCircle(10)\n",
    "print(a, b, c)"
   ]
  },
  {
   "cell_type": "code",
   "execution_count": 14,
   "id": "9f1a69af",
   "metadata": {},
   "outputs": [
    {
     "name": "stdout",
     "output_type": "stream",
     "text": [
      "314.2857142857143\n",
      "314.2857142857143\n",
      "314.2857142857143\n"
     ]
    }
   ],
   "source": [
    "a= helper.calcAreaOfCircle(10)\n",
    "b = helper.calcAreaOfCircle(diameter=20)\n",
    "c = helper.calcAreaOfCircle(10)\n",
    "print(a, b, c, sep='\\n')"
   ]
  },
  {
   "cell_type": "code",
   "execution_count": 15,
   "id": "98ec5afe",
   "metadata": {},
   "outputs": [],
   "source": [
    "import helper\n",
    "import helper as h\n",
    "from helper import calcAreaOfCircle\n",
    "from helper import *"
   ]
  },
  {
   "cell_type": "code",
   "execution_count": null,
   "id": "593d7abf",
   "metadata": {},
   "outputs": [],
   "source": []
  }
 ],
 "metadata": {
  "kernelspec": {
   "display_name": "Python 3",
   "language": "python",
   "name": "python3"
  },
  "language_info": {
   "codemirror_mode": {
    "name": "ipython",
    "version": 3
   },
   "file_extension": ".py",
   "mimetype": "text/x-python",
   "name": "python",
   "nbconvert_exporter": "python",
   "pygments_lexer": "ipython3",
   "version": "3.13.6"
  }
 },
 "nbformat": 4,
 "nbformat_minor": 5
}
