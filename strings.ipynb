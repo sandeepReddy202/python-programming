{
 "cells": [
  {
   "cell_type": "code",
   "execution_count": 2,
   "id": "d81d435b",
   "metadata": {},
   "outputs": [
    {
     "name": "stdout",
     "output_type": "stream",
     "text": [
      "once upon a time twice upon a time\n",
      "onci upon a timi\n"
     ]
    }
   ],
   "source": [
    "s=\"once upon a time\"\n",
    "s2=s.replace('once','twice')\n",
    "print(s,s2)\n",
    "s3=s.replace('e','i')\n",
    "print(s3)"
   ]
  },
  {
   "cell_type": "code",
   "execution_count": 4,
   "id": "03282189",
   "metadata": {},
   "outputs": [
    {
     "name": "stdout",
     "output_type": "stream",
     "text": [
      "py#h#o#n\n",
      "pyhon\n"
     ]
    }
   ],
   "source": [
    "#replace for removing content\n",
    "data='py#h#o#n'\n",
    "cleaned_data=data.replace('#','')\n",
    "print(data,cleaned_data,sep='\\n')"
   ]
  },
  {
   "cell_type": "code",
   "execution_count": 6,
   "id": "ad28efd8",
   "metadata": {},
   "outputs": [
    {
     "name": "stdout",
     "output_type": "stream",
     "text": [
      "7\n",
      "-1\n",
      "2\n",
      "3\n",
      "13\n"
     ]
    }
   ],
   "source": [
    "m=\"Alpine mountain range\"\n",
    "print(m.find('mountain'))\n",
    "print(m.find('lion')) #output -1\n",
    "print(m.find('pine')) #output 3\n",
    "print(m.find('i'))\n",
    "print(m.find('i',4))"
   ]
  },
  {
   "cell_type": "markdown",
   "id": "04426a65",
   "metadata": {},
   "source": [
    "split&join"
   ]
  },
  {
   "cell_type": "code",
   "execution_count": 8,
   "id": "13ae92a3",
   "metadata": {},
   "outputs": [
    {
     "name": "stdout",
     "output_type": "stream",
     "text": [
      "life before death,courage before despare,journey before destination\n",
      "['life', 'before', 'death,courage', 'before', 'despare,journey', 'before', 'destination']\n"
     ]
    }
   ],
   "source": [
    "quote=\"life before death,courage before despare,journey before destination\"\n",
    "words=quote.split() # str->list\n",
    "print(quote)\n",
    "print(words)"
   ]
  },
  {
   "cell_type": "code",
   "execution_count": 9,
   "id": "85413875",
   "metadata": {},
   "outputs": [
    {
     "name": "stdout",
     "output_type": "stream",
     "text": [
      "life before death,courage before despare,journey before destination\n",
      "['life', 'before', 'death,courage', 'before', 'despare,journey', 'before', 'destination']\n",
      "['life before death', 'courage before despare', 'journey before destination']\n"
     ]
    }
   ],
   "source": [
    "quote=\"life before death,courage before despare,journey before destination\"\n",
    "words=quote.split() # str->list\n",
    "print(quote)\n",
    "print(words)\n",
    "sentences=quote.split(',')\n",
    "print(sentences)    "
   ]
  },
  {
   "cell_type": "code",
   "execution_count": 14,
   "id": "be32769d",
   "metadata": {},
   "outputs": [
    {
     "name": "stdout",
     "output_type": "stream",
     "text": [
      "['Mbu', 'sree sanath nagar', 'tirpati', '517502']\n",
      "Mbu,sree sanath nagar,tirpati,517502\n"
     ]
    }
   ],
   "source": [
    "addr=['Mbu','sree sanath nagar','tirpati','517502']\n",
    "addr_str=\",\".join(addr)\n",
    "print(addr,addr_str,sep='\\n')\n",
    "addr2=\"_\".join(addr)\n",
    "addr3=\"\\n\".join(addr)\n",
    "addr4=\"what\".join(addr)"
   ]
  },
  {
   "cell_type": "markdown",
   "id": "add88157",
   "metadata": {},
   "source": [
    "functions&modules"
   ]
  },
  {
   "cell_type": "code",
   "execution_count": 1,
   "id": "ae8b4be5",
   "metadata": {},
   "outputs": [
    {
     "name": "stdout",
     "output_type": "stream",
     "text": [
      "even\n"
     ]
    }
   ],
   "source": [
    "n=input(\"enter value\")\n",
    "if int(n)%2==0:\n",
    "    print('even')\n",
    "else:\n",
    "    print('odd')"
   ]
  },
  {
   "cell_type": "code",
   "execution_count": 6,
   "id": "58adb40f",
   "metadata": {},
   "outputs": [
    {
     "ename": "SyntaxError",
     "evalue": "invalid syntax (4264194939.py, line 1)",
     "output_type": "error",
     "traceback": [
      "  \u001b[36mCell\u001b[39m\u001b[36m \u001b[39m\u001b[32mIn[6]\u001b[39m\u001b[32m, line 1\u001b[39m\n\u001b[31m    \u001b[39m\u001b[31mdef fun_name([param1,param2,...]):\u001b[39m\n                 ^\n\u001b[31mSyntaxError\u001b[39m\u001b[31m:\u001b[39m invalid syntax\n"
     ]
    }
   ],
   "source": [
    "def fun_name([param1,param2,...]):\n",
    "    statement1\n",
    "    statement2\n",
    "    ...\n",
    "    statementn  \n",
    "    return value"
   ]
  },
  {
   "cell_type": "code",
   "execution_count": 9,
   "id": "11f011c4",
   "metadata": {},
   "outputs": [],
   "source": [
    "def greeting():\n",
    "    print(\"Happy\")\n",
    "    print(\"Depavali\")"
   ]
  },
  {
   "cell_type": "code",
   "execution_count": 8,
   "id": "a7d89539",
   "metadata": {},
   "outputs": [
    {
     "name": "stdout",
     "output_type": "stream",
     "text": [
      "total = 60\n",
      "total = 29\n"
     ]
    }
   ],
   "source": [
    "def total(a,b,c):\n",
    "    ans = a+b+c\n",
    "    print(f'total = {ans}')\n",
    "total(10,20,30)\n",
    "total(1,15,13)    "
   ]
  },
  {
   "cell_type": "code",
   "execution_count": 7,
   "id": "d3be7e5d",
   "metadata": {},
   "outputs": [
    {
     "name": "stdout",
     "output_type": "stream",
     "text": [
      "Hello\n",
      "Hello\n",
      "Hello\n"
     ]
    }
   ],
   "source": [
    "def msg():\n",
    "    print(\"Hello\")\n",
    "msg()\n",
    "msg()\n",
    "msg()"
   ]
  },
  {
   "cell_type": "code",
   "execution_count": 16,
   "id": "6cc55b1f",
   "metadata": {},
   "outputs": [
    {
     "name": "stdout",
     "output_type": "stream",
     "text": [
      "6\n",
      "2625\n",
      "75\n"
     ]
    }
   ],
   "source": [
    "def mul(a,b):\n",
    "    print(a*b)\n",
    "mul(2,3)\n",
    "mul(15,175)\n",
    "mul(5,15)"
   ]
  },
  {
   "cell_type": "code",
   "execution_count": 23,
   "id": "f6e7b92b",
   "metadata": {},
   "outputs": [
    {
     "data": {
      "text/plain": [
       "11.180339887498949"
      ]
     },
     "execution_count": 23,
     "metadata": {},
     "output_type": "execute_result"
    }
   ],
   "source": [
    "import math\n",
    "def hyp(p,b):\n",
    "    ans=math.sqrt(p**2+b**2)\n",
    "    return ans\n",
    "hyp(10,5)"
   ]
  },
  {
   "cell_type": "code",
   "execution_count": 25,
   "id": "af8ee181",
   "metadata": {},
   "outputs": [
    {
     "data": {
      "text/plain": [
       "False"
      ]
     },
     "execution_count": 25,
     "metadata": {},
     "output_type": "execute_result"
    }
   ],
   "source": [
    "def is_even(num):\n",
    "    if num%2 ==0:\n",
    "        return True\n",
    "    else:\n",
    "        return False\n",
    "is_even(15)"
   ]
  },
  {
   "cell_type": "code",
   "execution_count": 30,
   "id": "ba83a9b7",
   "metadata": {},
   "outputs": [
    {
     "name": "stdout",
     "output_type": "stream",
     "text": [
      "you are stupid\n"
     ]
    }
   ],
   "source": [
    "x=int(input('enter even num'))\n",
    "if is_even(x):\n",
    "    print(\"good job\")\n",
    "else:\n",
    "    print(\"you are stupid\")    "
   ]
  },
  {
   "cell_type": "markdown",
   "id": "0fb8152f",
   "metadata": {},
   "source": [
    "convention while creating function \n",
    "1 Dont take input inside function \n",
    "2 Return the value from the function \n",
    "3 use patameter to pass input to function \n",
    "4 keep it small & simple"
   ]
  },
  {
   "cell_type": "code",
   "execution_count": null,
   "id": "d4bf4ab0",
   "metadata": {},
   "outputs": [],
   "source": []
  }
 ],
 "metadata": {
  "kernelspec": {
   "display_name": "Python 3",
   "language": "python",
   "name": "python3"
  },
  "language_info": {
   "codemirror_mode": {
    "name": "ipython",
    "version": 3
   },
   "file_extension": ".py",
   "mimetype": "text/x-python",
   "name": "python",
   "nbconvert_exporter": "python",
   "pygments_lexer": "ipython3",
   "version": "3.13.6"
  }
 },
 "nbformat": 4,
 "nbformat_minor": 5
}
