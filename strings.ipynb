{
 "cells": [
  {
   "cell_type": "code",
   "execution_count": 2,
   "id": "d81d435b",
   "metadata": {},
   "outputs": [
    {
     "name": "stdout",
     "output_type": "stream",
     "text": [
      "once upon a time twice upon a time\n",
      "onci upon a timi\n"
     ]
    }
   ],
   "source": [
    "s=\"once upon a time\"\n",
    "s2=s.replace('once','twice')\n",
    "print(s,s2)\n",
    "s3=s.replace('e','i')\n",
    "print(s3)"
   ]
  },
  {
   "cell_type": "code",
   "execution_count": 4,
   "id": "03282189",
   "metadata": {},
   "outputs": [
    {
     "name": "stdout",
     "output_type": "stream",
     "text": [
      "py#h#o#n\n",
      "pyhon\n"
     ]
    }
   ],
   "source": [
    "#replace for removing content\n",
    "data='py#h#o#n'\n",
    "cleaned_data=data.replace('#','')\n",
    "print(data,cleaned_data,sep='\\n')"
   ]
  },
  {
   "cell_type": "code",
   "execution_count": 6,
   "id": "ad28efd8",
   "metadata": {},
   "outputs": [
    {
     "name": "stdout",
     "output_type": "stream",
     "text": [
      "7\n",
      "-1\n",
      "2\n",
      "3\n",
      "13\n"
     ]
    }
   ],
   "source": [
    "m=\"Alpine mountain range\"\n",
    "print(m.find('mountain'))\n",
    "print(m.find('lion')) #output -1\n",
    "print(m.find('pine')) #output 3\n",
    "print(m.find('i'))\n",
    "print(m.find('i',4))"
   ]
  },
  {
   "cell_type": "markdown",
   "id": "04426a65",
   "metadata": {},
   "source": [
    "split&join"
   ]
  },
  {
   "cell_type": "code",
   "execution_count": 8,
   "id": "13ae92a3",
   "metadata": {},
   "outputs": [
    {
     "name": "stdout",
     "output_type": "stream",
     "text": [
      "life before death,courage before despare,journey before destination\n",
      "['life', 'before', 'death,courage', 'before', 'despare,journey', 'before', 'destination']\n"
     ]
    }
   ],
   "source": [
    "quote=\"life before death,courage before despare,journey before destination\"\n",
    "words=quote.split() # str->list\n",
    "print(quote)\n",
    "print(words)"
   ]
  },
  {
   "cell_type": "code",
   "execution_count": 9,
   "id": "85413875",
   "metadata": {},
   "outputs": [
    {
     "name": "stdout",
     "output_type": "stream",
     "text": [
      "life before death,courage before despare,journey before destination\n",
      "['life', 'before', 'death,courage', 'before', 'despare,journey', 'before', 'destination']\n",
      "['life before death', 'courage before despare', 'journey before destination']\n"
     ]
    }
   ],
   "source": [
    "quote=\"life before death,courage before despare,journey before destination\"\n",
    "words=quote.split() # str->list\n",
    "print(quote)\n",
    "print(words)\n",
    "sentences=quote.split(',')\n",
    "print(sentences)    "
   ]
  },
  {
   "cell_type": "code",
   "execution_count": 14,
   "id": "be32769d",
   "metadata": {},
   "outputs": [
    {
     "name": "stdout",
     "output_type": "stream",
     "text": [
      "['Mbu', 'sree sanath nagar', 'tirpati', '517502']\n",
      "Mbu,sree sanath nagar,tirpati,517502\n"
     ]
    }
   ],
   "source": [
    "addr=['Mbu','sree sanath nagar','tirpati','517502']\n",
    "addr_str=\",\".join(addr)\n",
    "print(addr,addr_str,sep='\\n')\n",
    "addr2=\"_\".join(addr)\n",
    "addr3=\"\\n\".join(addr)\n",
    "addr4=\"what\".join(addr)"
   ]
  },
  {
   "cell_type": "markdown",
   "id": "add88157",
   "metadata": {},
   "source": [
    "functions&modules"
   ]
  },
  {
   "cell_type": "code",
   "execution_count": 1,
   "id": "ae8b4be5",
   "metadata": {},
   "outputs": [
    {
     "name": "stdout",
     "output_type": "stream",
     "text": [
      "even\n"
     ]
    }
   ],
   "source": [
    "n=input(\"enter value\")\n",
    "if int(n)%2==0:\n",
    "    print('even')\n",
    "else:\n",
    "    print('odd')"
   ]
  },
  {
   "cell_type": "code",
   "execution_count": 6,
   "id": "58adb40f",
   "metadata": {},
   "outputs": [
    {
     "ename": "SyntaxError",
     "evalue": "invalid syntax (4264194939.py, line 1)",
     "output_type": "error",
     "traceback": [
      "  \u001b[36mCell\u001b[39m\u001b[36m \u001b[39m\u001b[32mIn[6]\u001b[39m\u001b[32m, line 1\u001b[39m\n\u001b[31m    \u001b[39m\u001b[31mdef fun_name([param1,param2,...]):\u001b[39m\n                 ^\n\u001b[31mSyntaxError\u001b[39m\u001b[31m:\u001b[39m invalid syntax\n"
     ]
    }
   ],
   "source": [
    "def fun_name([param1,param2,...]):\n",
    "    statement1\n",
    "    statement2\n",
    "    ...\n",
    "    statementn  \n",
    "    return value"
   ]
  },
  {
   "cell_type": "code",
   "execution_count": 9,
   "id": "11f011c4",
   "metadata": {},
   "outputs": [],
   "source": [
    "def greeting():\n",
    "    print(\"Happy\")\n",
    "    print(\"Depavali\")"
   ]
  },
  {
   "cell_type": "code",
   "execution_count": 8,
   "id": "a7d89539",
   "metadata": {},
   "outputs": [
    {
     "name": "stdout",
     "output_type": "stream",
     "text": [
      "total = 60\n",
      "total = 29\n"
     ]
    }
   ],
   "source": [
    "def total(a,b,c):\n",
    "    ans = a+b+c\n",
    "    print(f'total = {ans}')\n",
    "total(10,20,30)\n",
    "total(1,15,13)    "
   ]
  },
  {
   "cell_type": "code",
   "execution_count": 7,
   "id": "d3be7e5d",
   "metadata": {},
   "outputs": [
    {
     "name": "stdout",
     "output_type": "stream",
     "text": [
      "Hello\n",
      "Hello\n",
      "Hello\n"
     ]
    }
   ],
   "source": [
    "def msg():\n",
    "    print(\"Hello\")\n",
    "msg()\n",
    "msg()\n",
    "msg()"
   ]
  },
  {
   "cell_type": "code",
   "execution_count": 16,
   "id": "6cc55b1f",
   "metadata": {},
   "outputs": [
    {
     "name": "stdout",
     "output_type": "stream",
     "text": [
      "6\n",
      "2625\n",
      "75\n"
     ]
    }
   ],
   "source": [
    "def mul(a,b):\n",
    "    print(a*b)\n",
    "mul(2,3)\n",
    "mul(15,175)\n",
    "mul(5,15)"
   ]
  },
  {
   "cell_type": "code",
   "execution_count": 23,
   "id": "f6e7b92b",
   "metadata": {},
   "outputs": [
    {
     "data": {
      "text/plain": [
       "11.180339887498949"
      ]
     },
     "execution_count": 23,
     "metadata": {},
     "output_type": "execute_result"
    }
   ],
   "source": [
    "import math\n",
    "def hyp(p,b):\n",
    "    ans=math.sqrt(p**2+b**2)\n",
    "    return ans\n",
    "hyp(10,5)"
   ]
  },
  {
   "cell_type": "code",
   "execution_count": 25,
   "id": "af8ee181",
   "metadata": {},
   "outputs": [
    {
     "data": {
      "text/plain": [
       "False"
      ]
     },
     "execution_count": 25,
     "metadata": {},
     "output_type": "execute_result"
    }
   ],
   "source": [
    "def is_even(num):\n",
    "    if num%2 ==0:\n",
    "        return True\n",
    "    else:\n",
    "        return False\n",
    "is_even(15)"
   ]
  },
  {
   "cell_type": "code",
   "execution_count": 30,
   "id": "ba83a9b7",
   "metadata": {},
   "outputs": [
    {
     "name": "stdout",
     "output_type": "stream",
     "text": [
      "you are stupid\n"
     ]
    }
   ],
   "source": [
    "x=int(input('enter even num'))\n",
    "if is_even(x):\n",
    "    print(\"good job\")\n",
    "else:\n",
    "    print(\"you are stupid\")    "
   ]
  },
  {
   "cell_type": "markdown",
   "id": "0fb8152f",
   "metadata": {},
   "source": [
    "convention while creating function \n",
    "1 Dont take input inside function \n",
    "2 Return the value from the function \n",
    "3 use patameter to pass input to function \n",
    "4 keep it small & simple"
   ]
  },
  {
   "cell_type": "markdown",
   "id": "f1a0e719",
   "metadata": {},
   "source": [
    "1 Required parameter"
   ]
  },
  {
   "cell_type": "code",
   "execution_count": 15,
   "id": "d4bf4ab0",
   "metadata": {},
   "outputs": [
    {
     "name": "stdout",
     "output_type": "stream",
     "text": [
      "50\n"
     ]
    }
   ],
   "source": [
    "def area (l , b):\n",
    "    return l*b\n",
    "ans=area(10,5)\n",
    "print(ans)"
   ]
  },
  {
   "cell_type": "markdown",
   "id": "6016638e",
   "metadata": {},
   "source": [
    "2 named parameter calls"
   ]
  },
  {
   "cell_type": "code",
   "execution_count": 14,
   "id": "e93a14e2",
   "metadata": {},
   "outputs": [
    {
     "name": "stdout",
     "output_type": "stream",
     "text": [
      "65\n"
     ]
    }
   ],
   "source": [
    "res=area(l=5,b=13)\n",
    "print(res)"
   ]
  },
  {
   "cell_type": "code",
   "execution_count": 12,
   "id": "e98476c0",
   "metadata": {},
   "outputs": [],
   "source": [
    "def si(p,r,t):\n",
    "    return p*r*t/100"
   ]
  },
  {
   "cell_type": "markdown",
   "id": "722c92c8",
   "metadata": {},
   "source": [
    "3 default parameter"
   ]
  },
  {
   "cell_type": "code",
   "execution_count": 17,
   "id": "07f4516d",
   "metadata": {},
   "outputs": [
    {
     "name": "stdout",
     "output_type": "stream",
     "text": [
      "1000\n",
      "100\n"
     ]
    }
   ],
   "source": [
    "def pow(n,e=2):\n",
    "    return n**e\n",
    "print(pow(10,3))\n",
    "print(pow(10))"
   ]
  },
  {
   "cell_type": "code",
   "execution_count": 18,
   "id": "967cf91f",
   "metadata": {},
   "outputs": [],
   "source": [
    "def adder(a,b=0,c=0,d=0):\n",
    "    return a+b+c+d"
   ]
  },
  {
   "cell_type": "code",
   "execution_count": 19,
   "id": "bbc9843a",
   "metadata": {},
   "outputs": [
    {
     "data": {
      "text/plain": [
       "10"
      ]
     },
     "execution_count": 19,
     "metadata": {},
     "output_type": "execute_result"
    }
   ],
   "source": [
    "adder(10)"
   ]
  },
  {
   "cell_type": "code",
   "execution_count": 20,
   "id": "ee535307",
   "metadata": {},
   "outputs": [
    {
     "data": {
      "text/plain": [
       "9"
      ]
     },
     "execution_count": 20,
     "metadata": {},
     "output_type": "execute_result"
    }
   ],
   "source": [
    "adder(5,4)"
   ]
  },
  {
   "cell_type": "code",
   "execution_count": 21,
   "id": "88072681",
   "metadata": {},
   "outputs": [
    {
     "data": {
      "text/plain": [
       "9"
      ]
     },
     "execution_count": 21,
     "metadata": {},
     "output_type": "execute_result"
    }
   ],
   "source": [
    "adder(2,3,4)"
   ]
  },
  {
   "cell_type": "code",
   "execution_count": 22,
   "id": "87d53c25",
   "metadata": {},
   "outputs": [
    {
     "data": {
      "text/plain": [
       "14"
      ]
     },
     "execution_count": 22,
     "metadata": {},
     "output_type": "execute_result"
    }
   ],
   "source": [
    "adder(5,4,3,2)"
   ]
  },
  {
   "cell_type": "code",
   "execution_count": 23,
   "id": "0019846a",
   "metadata": {},
   "outputs": [
    {
     "data": {
      "text/plain": [
       "22"
      ]
     },
     "execution_count": 23,
     "metadata": {},
     "output_type": "execute_result"
    }
   ],
   "source": [
    "adder(a=10,c=10,d=2)"
   ]
  },
  {
   "cell_type": "code",
   "execution_count": 24,
   "id": "f35bd82a",
   "metadata": {},
   "outputs": [],
   "source": [
    "def ctof(val):\n",
    "    f=(vol*9/5)+32\n",
    "    return f"
   ]
  },
  {
   "cell_type": "markdown",
   "id": "b9bf322f",
   "metadata": {},
   "source": [
    "non returning non parameterized functions\n"
   ]
  },
  {
   "cell_type": "code",
   "execution_count": 3,
   "id": "9b22c0ad",
   "metadata": {},
   "outputs": [],
   "source": [
    "def greeting():\n",
    "    print(\"🌟\"*5)\n",
    "    print(\"Good morning\")\n",
    "    print(\"🌟\"*5)\n",
    "#call\n",
    "    greeting()"
   ]
  },
  {
   "cell_type": "code",
   "execution_count": 6,
   "id": "11ef2e97",
   "metadata": {},
   "outputs": [
    {
     "name": "stdout",
     "output_type": "stream",
     "text": [
      "✌️\n",
      "👍\n",
      "👌\n",
      "👌\n"
     ]
    }
   ],
   "source": [
    "def dice_roll():\n",
    "    import random\n",
    "    out = {1:'👍',2:'✌️',3:'👌',4:'❤️',5:'🤚',6:'😎'}\n",
    "    value = random.randint(1,6)\n",
    "    return out.get(value)\n",
    "# calls\n",
    "print(dice_roll())\n",
    "print(dice_roll())\n",
    "print(dice_roll())\n",
    "print(dice_roll())\n"
   ]
  },
  {
   "cell_type": "code",
   "execution_count": 8,
   "id": "830bad51",
   "metadata": {},
   "outputs": [
    {
     "name": "stdout",
     "output_type": "stream",
     "text": [
      "False\n",
      "True\n",
      "True\n",
      "False\n"
     ]
    }
   ],
   "source": [
    "# parametrized value returning function\n",
    "def is_valid_password(pwd):\n",
    "    if len(pwd) < 8:return False\n",
    "    if not pwd.isalnum(): return False\n",
    "    return True\n",
    "\n",
    "print(is_valid_password(\"hello\"))\n",
    "print(is_valid_password(\"helloword\"))\n",
    "print(is_valid_password(\"helloworld10\"))\n",
    "print(is_valid_password(\"3120@1233\"))"
   ]
  },
  {
   "cell_type": "code",
   "execution_count": 10,
   "id": "de7862f8",
   "metadata": {},
   "outputs": [
    {
     "name": "stdout",
     "output_type": "stream",
     "text": [
      "area = 180\n"
     ]
    }
   ],
   "source": [
    "# proper function syntax in python \n",
    "def area(length: int, breadth: int)-> int:\n",
    "    return length * breadth \n",
    "\n",
    "l = 12\n",
    "b = 15\n",
    "a = area(l, b)\n",
    "print(f'area = {a}')"
   ]
  },
  {
   "cell_type": "code",
   "execution_count": 14,
   "id": "7c7c1a65",
   "metadata": {},
   "outputs": [
    {
     "name": "stdout",
     "output_type": "stream",
     "text": [
      "Hello\n",
      "Hi\n"
     ]
    }
   ],
   "source": [
    "# default args\n",
    "def cleanText(data, to_remove=\"@$#%\"):\n",
    "    newdata = data\n",
    "    for char in to_remove:\n",
    "        newdata = newdata.replace(char,'')\n",
    "    return newdata\n",
    "\n",
    "cText = cleanText(\"He#ll#o@\")\n",
    "print(cText)\n",
    "cText2 = cleanText(\"H@!()#!@i\", to_remove='@!#()')\n",
    "print(cText2)   "
   ]
  },
  {
   "cell_type": "code",
   "execution_count": 15,
   "id": "01425957",
   "metadata": {},
   "outputs": [
    {
     "data": {
      "text/plain": [
       "26"
      ]
     },
     "execution_count": 15,
     "metadata": {},
     "output_type": "execute_result"
    }
   ],
   "source": [
    "def add100(a,b,c,d,e,f,g,h,i,j,k,l,m,n,o,p,q,r,s,t,u,v,w,x,y,z):\n",
    "    return a+b+c+d+e+f+g+h+i+j+k+l+m+n+o+p+q+r+s+t+u+v+w+x+y+z\n",
    "\n",
    "add100(1,1,1,1,1,1,1,1,1,1,1,1,1,1,1,1,1,1,1,1,1,1,1,1,1,1,)\n",
    "\n"
   ]
  },
  {
   "cell_type": "markdown",
   "id": "70836053",
   "metadata": {},
   "source": [
    "### Variable Arguments in python\n",
    "\n",
    "A function can have variable arguments in python using # symbol before a parameter in the function defination, This allows the function to accept any number of positional as a tuple. "
   ]
  },
  {
   "cell_type": "code",
   "execution_count": 19,
   "id": "e8706439",
   "metadata": {},
   "outputs": [
    {
     "name": "stdout",
     "output_type": "stream",
     "text": [
      "1\n",
      "24\n",
      "1612800\n"
     ]
    }
   ],
   "source": [
    "# A function that can multiply n parameters\n",
    "def multiplier(*numbers):\n",
    "    result = 1\n",
    "    for value in numbers:\n",
    "        result *= value \n",
    "    return result\n",
    "\n",
    "print(multiplier())\n",
    "print(multiplier(2,3,4))\n",
    "print(multiplier(2,3,4,5,6,1,2,2,5,56,2))\n"
   ]
  },
  {
   "cell_type": "code",
   "execution_count": 20,
   "id": "4f37ff64",
   "metadata": {},
   "outputs": [
    {
     "name": "stdout",
     "output_type": "stream",
     "text": [
      "24\n",
      "11\n",
      "Wrong operator give, please provide + or *\n"
     ]
    }
   ],
   "source": [
    "def operate(*args, operator=\"*\"):\n",
    "    result = 0\n",
    "    if operator == '*':\n",
    "        result = 1\n",
    "        for num in args:\n",
    "            result*=num\n",
    "        return result\n",
    "    elif operator == '+':\n",
    "        result = 1\n",
    "        for num in args:\n",
    "            result+=num\n",
    "        return result\n",
    "    else:\n",
    "        return \"Wrong operator give, please provide + or *\"         \n",
    "    \n",
    "print(operate(1,2,3,4))\n",
    "print(operate(1,2,3,4, operator='+'))\n",
    "print(operate(1,2,3,4, operator='-'))"
   ]
  },
  {
   "cell_type": "code",
   "execution_count": 21,
   "id": "7f271f03",
   "metadata": {},
   "outputs": [
    {
     "name": "stdout",
     "output_type": "stream",
     "text": [
      "1\n",
      "2\n",
      "3\n",
      "4\n",
      "5\n",
      "[1, 2, 3, 4, 5, 6, 7, 8, 9]\n"
     ]
    }
   ],
   "source": [
    "for i in range (1,6): print(i)\n",
    "\n",
    "print(list(range(1,10)))"
   ]
  },
  {
   "cell_type": "code",
   "execution_count": 23,
   "id": "1df19474",
   "metadata": {},
   "outputs": [
    {
     "name": "stdout",
     "output_type": "stream",
     "text": [
      "square 4\n",
      "square 9\n",
      "square 9\n",
      "square 25\n",
      "square 36\n",
      "square 49\n",
      "[484, 1089, 3025]\n"
     ]
    }
   ],
   "source": [
    "# creating a generator (use yield insted of return)\n",
    "def squared(data):\n",
    "    for i in data:\n",
    "        yield i**2\n",
    "\n",
    "# squared(data=[1,2,3,4,5,6,7]):\n",
    "\n",
    "# this is how we use generator (getting 1 value at a time)\n",
    "for num in squared([2,3,3,5,6,7]):\n",
    "    print(\"square\",num)\n",
    "\n",
    "# or\n",
    "print(list(squared([22,33,55])))            "
   ]
  },
  {
   "cell_type": "code",
   "execution_count": null,
   "id": "dc0a3ed0",
   "metadata": {},
   "outputs": [],
   "source": []
  }
 ],
 "metadata": {
  "kernelspec": {
   "display_name": "Python 3",
   "language": "python",
   "name": "python3"
  },
  "language_info": {
   "codemirror_mode": {
    "name": "ipython",
    "version": 3
   },
   "file_extension": ".py",
   "mimetype": "text/x-python",
   "name": "python",
   "nbconvert_exporter": "python",
   "pygments_lexer": "ipython3",
   "version": "3.13.6"
  }
 },
 "nbformat": 4,
 "nbformat_minor": 5
}
