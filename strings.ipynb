{
 "cells": [
  {
   "cell_type": "code",
   "execution_count": 2,
   "id": "d81d435b",
   "metadata": {},
   "outputs": [
    {
     "name": "stdout",
     "output_type": "stream",
     "text": [
      "once upon a time twice upon a time\n",
      "onci upon a timi\n"
     ]
    }
   ],
   "source": [
    "s=\"once upon a time\"\n",
    "s2=s.replace('once','twice')\n",
    "print(s,s2)\n",
    "s3=s.replace('e','i')\n",
    "print(s3)"
   ]
  },
  {
   "cell_type": "code",
   "execution_count": 4,
   "id": "03282189",
   "metadata": {},
   "outputs": [
    {
     "name": "stdout",
     "output_type": "stream",
     "text": [
      "py#h#o#n\n",
      "pyhon\n"
     ]
    }
   ],
   "source": [
    "#replace for removing content\n",
    "data='py#h#o#n'\n",
    "cleaned_data=data.replace('#','')\n",
    "print(data,cleaned_data,sep='\\n')"
   ]
  },
  {
   "cell_type": "code",
   "execution_count": 6,
   "id": "ad28efd8",
   "metadata": {},
   "outputs": [
    {
     "name": "stdout",
     "output_type": "stream",
     "text": [
      "7\n",
      "-1\n",
      "2\n",
      "3\n",
      "13\n"
     ]
    }
   ],
   "source": [
    "m=\"Alpine mountain range\"\n",
    "print(m.find('mountain'))\n",
    "print(m.find('lion')) #output -1\n",
    "print(m.find('pine')) #output 3\n",
    "print(m.find('i'))\n",
    "print(m.find('i',4))"
   ]
  },
  {
   "cell_type": "markdown",
   "id": "04426a65",
   "metadata": {},
   "source": [
    "split&join"
   ]
  },
  {
   "cell_type": "code",
   "execution_count": 8,
   "id": "13ae92a3",
   "metadata": {},
   "outputs": [
    {
     "name": "stdout",
     "output_type": "stream",
     "text": [
      "life before death,courage before despare,journey before destination\n",
      "['life', 'before', 'death,courage', 'before', 'despare,journey', 'before', 'destination']\n"
     ]
    }
   ],
   "source": [
    "quote=\"life before death,courage before despare,journey before destination\"\n",
    "words=quote.split() # str->list\n",
    "print(quote)\n",
    "print(words)"
   ]
  },
  {
   "cell_type": "code",
   "execution_count": 9,
   "id": "85413875",
   "metadata": {},
   "outputs": [
    {
     "name": "stdout",
     "output_type": "stream",
     "text": [
      "life before death,courage before despare,journey before destination\n",
      "['life', 'before', 'death,courage', 'before', 'despare,journey', 'before', 'destination']\n",
      "['life before death', 'courage before despare', 'journey before destination']\n"
     ]
    }
   ],
   "source": [
    "quote=\"life before death,courage before despare,journey before destination\"\n",
    "words=quote.split() # str->list\n",
    "print(quote)\n",
    "print(words)\n",
    "sentences=quote.split(',')\n",
    "print(sentences)    "
   ]
  },
  {
   "cell_type": "code",
   "execution_count": 14,
   "id": "be32769d",
   "metadata": {},
   "outputs": [
    {
     "name": "stdout",
     "output_type": "stream",
     "text": [
      "['Mbu', 'sree sanath nagar', 'tirpati', '517502']\n",
      "Mbu,sree sanath nagar,tirpati,517502\n"
     ]
    }
   ],
   "source": [
    "addr=['Mbu','sree sanath nagar','tirpati','517502']\n",
    "addr_str=\",\".join(addr)\n",
    "print(addr,addr_str,sep='\\n')\n",
    "addr2=\"_\".join(addr)\n",
    "addr3=\"\\n\".join(addr)\n",
    "addr4=\"what\".join(addr)"
   ]
  },
  {
   "cell_type": "markdown",
   "id": "add88157",
   "metadata": {},
   "source": [
    "functions&modules"
   ]
  },
  {
   "cell_type": "code",
   "execution_count": 1,
   "id": "ae8b4be5",
   "metadata": {},
   "outputs": [
    {
     "name": "stdout",
     "output_type": "stream",
     "text": [
      "even\n"
     ]
    }
   ],
   "source": [
    "n=input(\"enter value\")\n",
    "if int(n)%2==0:\n",
    "    print('even')\n",
    "else:\n",
    "    print('odd')"
   ]
  }
 ],
 "metadata": {
  "kernelspec": {
   "display_name": "Python 3",
   "language": "python",
   "name": "python3"
  },
  "language_info": {
   "codemirror_mode": {
    "name": "ipython",
    "version": 3
   },
   "file_extension": ".py",
   "mimetype": "text/x-python",
   "name": "python",
   "nbconvert_exporter": "python",
   "pygments_lexer": "ipython3",
   "version": "3.13.6"
  }
 },
 "nbformat": 4,
 "nbformat_minor": 5
}
